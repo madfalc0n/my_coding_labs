{
 "cells": [
  {
   "cell_type": "code",
   "execution_count": 2,
   "metadata": {},
   "outputs": [],
   "source": [
    "import numpy as np\n",
    "import pandas as pd\n",
    "import matplotlib.pyplot as plt\n",
    "import cv2 \n",
    "from tqdm.notebook import tqdm\n",
    "import skimage.io\n",
    "import albumentations as albu\n",
    "import tensorflow as tf"
   ]
  },
  {
   "cell_type": "code",
   "execution_count": 3,
   "metadata": {},
   "outputs": [],
   "source": [
    "from tensorflow.keras.utils import Sequence\n",
    "from keras.callbacks import Callback"
   ]
  },
  {
   "cell_type": "code",
   "execution_count": 4,
   "metadata": {},
   "outputs": [],
   "source": [
    "#러닝레이트 조정\n",
    "#https://pypi.org/project/keras-swa/\n",
    "from swa.keras import SWA\n",
    "import math"
   ]
  },
  {
   "cell_type": "code",
   "execution_count": 5,
   "metadata": {},
   "outputs": [],
   "source": [
    "#GPU 사용하는 만큼만 사용\n",
    "gpus = tf.config.experimental.list_physical_devices('GPU')\n",
    "if gpus:\n",
    "    try:\n",
    "        tf.config.experimental.set_memory_growth(gpus[0], True)\n",
    "    except RuntimeError as e:\n",
    "        # 프로그램 시작시에 메모리 증가가 설정되어야만 합니다\n",
    "        print(e)"
   ]
  },
  {
   "cell_type": "markdown",
   "metadata": {},
   "source": [
    "## Data call"
   ]
  },
  {
   "cell_type": "code",
   "execution_count": 6,
   "metadata": {},
   "outputs": [
    {
     "name": "stdout",
     "output_type": "stream",
     "text": [
      "/home/workspace/user-workspace/Crack/madfalcon\r\n"
     ]
    }
   ],
   "source": [
    "!pwd"
   ]
  },
  {
   "cell_type": "code",
   "execution_count": 7,
   "metadata": {},
   "outputs": [],
   "source": [
    "img_dir = '/home/workspace/data/.train/.task153/data/train/'\n",
    "task_dir = '/home/workspace/data/.train/.task153/data/train/'\n",
    "custom_dir = '/home/workspace/user-workspace/Crack/madfalcon/trans_data/'\n",
    "df = pd.read_csv(task_dir+'train.csv',names=['file','tile','label'],sep=',',skiprows=1)\n",
    "#image_file_list = glob(task_dir+ '/**/*.tif', recursive=True)"
   ]
  },
  {
   "cell_type": "markdown",
   "metadata": {},
   "source": [
    "## Data analysis"
   ]
  },
  {
   "cell_type": "code",
   "execution_count": 8,
   "metadata": {},
   "outputs": [
    {
     "name": "stdout",
     "output_type": "stream",
     "text": [
      "normal image : 12579\n",
      "crack image : 1494\n"
     ]
    }
   ],
   "source": [
    "normal_img_len = len(df[df['label'] == 0]['file'])\n",
    "normal_df = df[df['label'] == 0]\n",
    "normal_df.reset_index(inplace=True, drop=True)\n",
    "\n",
    "crack_img_len = len(df[df['label'] == 1]['file'])\n",
    "crack_df = df[df['label'] == 1]\n",
    "crack_df.reset_index(inplace=True, drop=True)\n",
    "\n",
    "print(f'normal image : {normal_img_len}')\n",
    "print(f'crack image : {crack_img_len}')"
   ]
  },
  {
   "cell_type": "code",
   "execution_count": 12,
   "metadata": {},
   "outputs": [],
   "source": [
    "IMG_SIZE = 34 #타일별 이미지 사이즈\n",
    "SEQ_LEN = 4 # 16^2 = 256, 2 * 34 = 68 * 68 사이즈의 이미지를 생성\n",
    "BATCH_SIZE = 30\n",
    "SEED = 2020"
   ]
  },
  {
   "cell_type": "code",
   "execution_count": 13,
   "metadata": {},
   "outputs": [],
   "source": [
    "class Datatile(Sequence):\n",
    "    #initialize\n",
    "    def __init__(self, imgs_path, df, batch_size=32, \n",
    "                 mode='fit', shuffle=False, aug=None, \n",
    "                 seq_len=12, img_size=128, n_classes=6):\n",
    "        self.imgs_path = imgs_path\n",
    "        self.df = df\n",
    "        self.shuffle = shuffle\n",
    "        self.mode = mode\n",
    "        self.aug = aug\n",
    "        self.batch_size = batch_size\n",
    "        self.img_size = img_size\n",
    "        self.seq_len = seq_len\n",
    "        self.n_classes = n_classes\n",
    "        self.side = int(seq_len ** .5)\n",
    "        self.on_epoch_end()\n",
    "    \n",
    "    def __len__(self):\n",
    "        return int(np.floor(len(self.df) / self.batch_size))\n",
    "    \n",
    "    def on_epoch_end(self):\n",
    "        self.indexes = np.arange(len(self.df))\n",
    "        if self.shuffle:\n",
    "            np.random.shuffle(self.indexes)\n",
    "            \n",
    "    def __getitem__(self, index):\n",
    "        X = np.zeros((self.batch_size, self.side * self.img_size, self.side * self.img_size, 3), dtype=np.float32)\n",
    "        imgs_batch = self.df[index * self.batch_size : (index + 1) * self.batch_size]['file'].values\n",
    "        for i, img_name in enumerate(imgs_batch):\n",
    "            img_path = '{}'.format(self.imgs_path+img_name)\n",
    "            print(img_name, end=' ')\n",
    "            img_patches = self.get_patches(img_path)\n",
    "            X[i, ] = self.glue_to_one(img_patches)\n",
    "        if self.mode == 'fit':\n",
    "            y = np.zeros((self.batch_size, self.n_classes), dtype=np.float32)\n",
    "            lbls_batch = self.df[index * self.batch_size : (index + 1) * self.batch_size]['label'].values\n",
    "            for i in range(self.batch_size):\n",
    "                y[i, lbls_batch[i]] = 1\n",
    "            return X, y\n",
    "        elif self.mode == 'predict':\n",
    "            return X\n",
    "        else:\n",
    "            raise AttributeError('mode parameter error')\n",
    "            \n",
    "    def get_patches(self, img_path):\n",
    "        num_patches = self.seq_len\n",
    "        p_size = self.img_size\n",
    "        img = skimage.io.MultiImage(img_path)[0] / 255\n",
    "        if self.aug:\n",
    "            img = self.aug(image=img)['image'] \n",
    "        pad0, pad1 = (p_size - img.shape[0] % p_size) % p_size, (p_size - img.shape[1] % p_size) % p_size\n",
    "        img = np.pad(\n",
    "            img,\n",
    "            [\n",
    "                [pad0 // 2, pad0 - pad0 // 2], \n",
    "                [pad1 // 2, pad1 - pad1 // 2], \n",
    "                [0, 0]\n",
    "            ],\n",
    "            constant_values=1\n",
    "        )\n",
    "        img = img.reshape(img.shape[0] // p_size, p_size, img.shape[1] // p_size, p_size, 3)\n",
    "        img = img.transpose(0, 2, 1, 3, 4).reshape(-1, p_size, p_size, 3)\n",
    "        if len(img) < num_patches:\n",
    "            img = np.pad(\n",
    "                img, \n",
    "                [\n",
    "                    [0, num_patches - len(img)],\n",
    "                    [0, 0],\n",
    "                    [0, 0],\n",
    "                    [0, 0]\n",
    "                ],\n",
    "                constant_values=1\n",
    "            )\n",
    "        idxs = np.argsort(img.reshape(img.shape[0], -1).sum(-1))[:num_patches]\n",
    "        return np.array(img[idxs])\n",
    "    def glue_to_one(self, imgs_seq):\n",
    "        img_glue = np.zeros((self.img_size * self.side, self.img_size * self.side, 3), dtype=np.float32)\n",
    "        #img_size * side 만큼 float32비트 형식으로 0으로 채움\n",
    "#         print(f\"img_glue size : {img_glue.shape} , imgs_seq size : {imgs_seq.shape}\")\n",
    "        for i, ptch in enumerate(imgs_seq):\n",
    "            x = i // self.side\n",
    "            y = i % self.side\n",
    "#             print(f\"ptch size : {ptch.shape} , x : {x} , y : {y}  \")\n",
    "            img_glue[x * self.img_size : (x + 1) * self.img_size, \n",
    "                     y * self.img_size : (y + 1) * self.img_size, :] = ptch\n",
    "        return img_glue"
   ]
  },
  {
   "cell_type": "markdown",
   "metadata": {},
   "source": [
    "## Training model"
   ]
  },
  {
   "cell_type": "code",
   "execution_count": 16,
   "metadata": {},
   "outputs": [],
   "source": [
    "\n",
    "from keras import backend as K\n",
    "from tensorflow.keras import Model, Sequential\n",
    "from tensorflow.keras.models import load_model\n",
    "from tensorflow.keras.utils import Sequence\n",
    "from tensorflow.keras.layers import *\n",
    "from tensorflow.keras.optimizers import Adam\n",
    "from tensorflow.keras.callbacks import EarlyStopping, ModelCheckpoint, ReduceLROnPlateau\n",
    "from tensorflow.keras.losses import categorical_crossentropy\n",
    "from tensorflow.keras.preprocessing.image import ImageDataGenerator\n",
    "\n",
    "from tensorflow.keras.models import Sequential\n",
    "from tensorflow.keras.layers import Dense, Dropout, Flatten, Conv2D, MaxPool2D\n",
    "from tensorflow.keras.optimizers import RMSprop\n",
    "from tensorflow.keras.callbacks import ReduceLROnPlateau\n",
    "from tensorflow.keras.applications import ResNet50\n",
    "\n",
    "#efn model\n",
    "import efficientnet.tfkeras as efn"
   ]
  },
  {
   "cell_type": "code",
   "execution_count": 17,
   "metadata": {},
   "outputs": [],
   "source": [
    "from keras import backend as K\n",
    "def recall(y_target, y_pred):\n",
    "    # clip(t, clip_value_min, clip_value_max) : clip_value_min~clip_value_max 이외 가장자리를 깎아 낸다\n",
    "    # round : 반올림한다\n",
    "    y_target_yn = K.round(K.clip(y_target, 0, 1)) # 실제값을 0(Negative) 또는 1(Positive)로 설정한다\n",
    "    y_pred_yn = K.round(K.clip(y_pred, 0, 1)) # 예측값을 0(Negative) 또는 1(Positive)로 설정한다\n",
    "\n",
    "    # True Positive는 실제 값과 예측 값이 모두 1(Positive)인 경우이다\n",
    "    count_true_positive = K.sum(y_target_yn * y_pred_yn) \n",
    "\n",
    "    # (True Positive + False Negative) = 실제 값이 1(Positive) 전체\n",
    "    count_true_positive_false_negative = K.sum(y_target_yn)\n",
    "\n",
    "    # Recall =  (True Positive) / (True Positive + False Negative)\n",
    "    # K.epsilon()는 'divide by zero error' 예방차원에서 작은 수를 더한다\n",
    "    recall = count_true_positive / (count_true_positive_false_negative + K.epsilon())\n",
    "\n",
    "    # return a single tensor value\n",
    "    return recall\n",
    "\n",
    "\n",
    "def precision(y_target, y_pred):\n",
    "    # clip(t, clip_value_min, clip_value_max) : clip_value_min~clip_value_max 이외 가장자리를 깎아 낸다\n",
    "    # round : 반올림한다\n",
    "    y_pred_yn = K.round(K.clip(y_pred, 0, 1)) # 예측값을 0(Negative) 또는 1(Positive)로 설정한다\n",
    "    y_target_yn = K.round(K.clip(y_target, 0, 1)) # 실제값을 0(Negative) 또는 1(Positive)로 설정한다\n",
    "\n",
    "    # True Positive는 실제 값과 예측 값이 모두 1(Positive)인 경우이다\n",
    "    count_true_positive = K.sum(y_target_yn * y_pred_yn) \n",
    "\n",
    "    # (True Positive + False Positive) = 예측 값이 1(Positive) 전체\n",
    "    count_true_positive_false_positive = K.sum(y_pred_yn)\n",
    "\n",
    "    # Precision = (True Positive) / (True Positive + False Positive)\n",
    "    # K.epsilon()는 'divide by zero error' 예방차원에서 작은 수를 더한다\n",
    "    precision = count_true_positive / (count_true_positive_false_positive + K.epsilon())\n",
    "\n",
    "    # return a single tensor value\n",
    "    return precision\n",
    "\n",
    "\n",
    "def f1score(y_target, y_pred):\n",
    "    _recall = recall(y_target, y_pred)\n",
    "    _precision = precision(y_target, y_pred)\n",
    "    # K.epsilon()는 'divide by zero error' 예방차원에서 작은 수를 더한다\n",
    "    _f1score = ( 2 * _recall * _precision) / (_recall + _precision+ K.epsilon())\n",
    "    \n",
    "    # return a single tensor value\n",
    "    return _f1score"
   ]
  },
  {
   "cell_type": "code",
   "execution_count": 23,
   "metadata": {},
   "outputs": [],
   "source": [
    "def ModelCNN_resnet50():\n",
    "    input = Input(shape=(224, 224, 3))\n",
    "    model = Sequential()\n",
    "    bottleneck = ResNet50(weights='imagenet', include_top=False, pooling='avg', input_tensor=input)\n",
    "    model.add(bottleneck)\n",
    "    model.add(Flatten())\n",
    "    model.add(Dense(1024, activation='relu'))\n",
    "    model.add(BatchNormalization())\n",
    "    model.add(Dropout(.6))\n",
    "    model.add(Dense(2, activation='softmax'))\n",
    "    model.summary()\n",
    "\n",
    "    model.compile(\n",
    "        loss='categorical_crossentropy',\n",
    "        optimizer=Adam(lr=1e-5),\n",
    "        metrics=['categorical_accuracy',precision, recall, f1score]\n",
    "    )\n",
    "    return model\n",
    "\n",
    "\n",
    "def ModelCNN_resnet152():\n",
    "    input = Input(shape=(68, 68, 3))\n",
    "    model = Sequential()\n",
    "    bottleneck = ResNet152(weights='imagenet', include_top=False, pooling='avg', input_tensor=input)\n",
    "    model.add(bottleneck)\n",
    "    model.add(Flatten())\n",
    "    model.add(Dense(1024, activation='relu'))\n",
    "    model.add(BatchNormalization())\n",
    "    model.add(Dropout(.25))\n",
    "    model.add(Dense(2, activation='softmax'))\n",
    "    model.summary()\n",
    "\n",
    "    model.compile(\n",
    "        loss='categorical_crossentropy',\n",
    "        optimizer=Adam(lr=1e-5),\n",
    "        metrics=['categorical_accuracy',precision, recall, f1score]\n",
    "    )\n",
    "    return model\n",
    "\n",
    "def ModelCNN_InceptionResNetV2():\n",
    "    input = Input(shape=(68, 68, 3))\n",
    "    model = Sequential()\n",
    "    bottleneck = inception_resnet_v2.InceptionResNetV2(weights='imagenet', include_top=False, pooling='avg', input_tensor=input)\n",
    "    model.add(bottleneck)\n",
    "    model.add(Flatten())\n",
    "    model.add(Dense(1024, activation='relu'))\n",
    "    model.add(BatchNormalization())\n",
    "    model.add(Dropout(.25))\n",
    "    model.add(Dense(2, activation='softmax'))\n",
    "    model.summary()\n",
    "\n",
    "    model.compile(\n",
    "        loss='categorical_crossentropy',\n",
    "        optimizer=Adam(lr=1e-5),\n",
    "        metrics=['categorical_accuracy',precision, recall, f1score]\n",
    "    )\n",
    "    return model\n",
    "\n",
    "def ModelCNN_resnext101():\n",
    "    input = Input(shape=(68, 68, 3))\n",
    "    model = Sequential()\n",
    "    bottleneck = ResNeXt101(weights='imagenet', include_top=False, pooling='avg', input_tensor=input)\n",
    "    model.add(bottleneck)\n",
    "    model.add(Flatten())\n",
    "    model.add(Dense(1024, activation='relu'))\n",
    "    model.add(BatchNormalization())\n",
    "    model.add(Dropout(.25))\n",
    "    model.add(Dense(2, activation='softmax'))\n",
    "    model.summary()\n",
    "\n",
    "    model.compile(\n",
    "        loss='categorical_crossentropy',\n",
    "        optimizer=Adam(lr=1e-5),\n",
    "        metrics=['categorical_accuracy',precision, recall, f1score]\n",
    "    )\n",
    "    return model\n",
    "\n",
    "\n",
    "def ModelCNN_efnb7():\n",
    "#     input = Input(shape=(68, 68, 3))\n",
    "    input_val = Input(shape=(156, 156, 3))\n",
    "    model = Sequential()\n",
    "    bottleneck = efn.EfficientNetB7(input_shape=(156, 156, 3),weights='noisy-student',include_top=False)\n",
    "    model.add(bottleneck)\n",
    "    model.add(GlobalAveragePooling2D())\n",
    "    model.add(Dense(512, activation='gelu'))\n",
    "    model.add(BatchNormalization())\n",
    "    model.add(Dropout(.6))\n",
    "    model.add(Dense(2, activation='softmax',kernel_initializer='he_normal'))\n",
    "    model.summary()\n",
    "\n",
    "    model.compile(\n",
    "        loss='categorical_crossentropy',\n",
    "        optimizer=Adam(lr=0.001, epsilon=0.001,decay=1e-5, clipnorm=1.),\n",
    "        metrics=['categorical_accuracy',precision, recall, f1score]\n",
    "    )\n",
    "    return model\n",
    "\n",
    "def ModelCNN_efnb5():\n",
    "#     input = Input(shape=(68, 68, 3))\n",
    "    input_val = Input(shape=(224, 224, 3))\n",
    "    model = Sequential()\n",
    "    bottleneck = efn.EfficientNetB5(input_shape=(224, 224, 3),weights='noisy-student',include_top=False)\n",
    "    model.add(bottleneck)\n",
    "    model.add(GlobalAveragePooling2D())\n",
    "    model.add(Dense(512, activation='gelu',kernel_initializer='he_normal'))\n",
    "    model.add(BatchNormalization())\n",
    "    model.add(Dropout(.6))\n",
    "    model.add(Dense(2, activation='softmax',kernel_initializer='he_normal'))\n",
    "    model.summary()\n",
    "\n",
    "    model.compile(\n",
    "        loss='categorical_crossentropy',\n",
    "        optimizer=Adam(lr=0.001, epsilon=0.001,decay=1e-5, clipnorm=1.),\n",
    "        metrics=['categorical_accuracy',precision, recall, f1score]\n",
    "    )\n",
    "    return model"
   ]
  },
  {
   "cell_type": "code",
   "execution_count": 24,
   "metadata": {},
   "outputs": [],
   "source": [
    "from keras.utils.np_utils import to_categorical\n",
    "from sklearn.model_selection import KFold\n",
    "random_seed = 2020\n",
    "kf = KFold(n_splits=4)"
   ]
  },
  {
   "cell_type": "code",
   "execution_count": 25,
   "metadata": {},
   "outputs": [],
   "source": [
    "# gelu activation function -  Gaussian Error Linear Units (GELUs)\n",
    "# https://arxiv.org/abs/1606.08415\n",
    "\n",
    "from keras.layers import Activation\n",
    "from keras.utils.generic_utils import get_custom_objects\n",
    "import tensorflow as tf\n",
    "class Gelu(Activation):\n",
    "    def __init__(self, activation, **kwargs):\n",
    "        super(Gelu, self).__init__(activation, **kwargs)\n",
    "        self.__name__='gelu'\n",
    "        \n",
    "def gelu(x):\n",
    "    return 0.5 * x * (1 + tf.tanh(tf.sqrt(2 / np.pi) * (x + 0.044715 * tf.pow(x, 3))))\n",
    "\n",
    "get_custom_objects().update({'gelu': Gelu(gelu)})"
   ]
  },
  {
   "cell_type": "code",
   "execution_count": 26,
   "metadata": {},
   "outputs": [],
   "source": [
    "class CosineAnnealingScheduler(Callback):\n",
    "    \"\"\"Cosine annealing scheduler.\n",
    "    \"\"\"\n",
    "\n",
    "    def __init__(self, T_max, eta_max, eta_min=0, verbose=0):\n",
    "        super(CosineAnnealingScheduler, self).__init__()\n",
    "        self.T_max = T_max\n",
    "        self.eta_max = eta_max\n",
    "        self.eta_min = eta_min\n",
    "        self.verbose = verbose\n",
    "\n",
    "    def on_epoch_begin(self, epoch, logs=None):\n",
    "        if not hasattr(self.model.optimizer, 'lr'):\n",
    "            raise ValueError('Optimizer must have a \"lr\" attribute.')\n",
    "        lr = self.eta_min + (self.eta_max - self.eta_min) * (1 + math.cos(math.pi * epoch / self.T_max)) / 2\n",
    "        K.set_value(self.model.optimizer.lr, lr)\n",
    "        if self.verbose == 0:\n",
    "            print('\\nEpoch %05d: CosineAnnealingScheduler setting learning '\n",
    "                  'rate to %s.' % (epoch + 1, lr))\n",
    "\n",
    "    def on_epoch_end(self, epoch, logs=None):\n",
    "        logs = logs or {}\n",
    "        logs['lr'] = K.get_value(self.model.optimizer.lr)\n",
    "        \n",
    "\n",
    "def build_lrfn(lr_start=0.00001, lr_max=0.00005,lr_min=0.00001, lr_rampup_epochs=5,lr_sustain_epochs=0, lr_exp_decay=.8):\n",
    "    \n",
    "#     lr_max = lr_max * strategy.num_replicas_in_sync\n",
    "    lr_max = lr_max * 8\n",
    "    def lrfn(epoch):\n",
    "        if epoch < lr_rampup_epochs:\n",
    "            lr = (lr_max - lr_start) / lr_rampup_epochs * epoch + lr_start\n",
    "        elif epoch < lr_rampup_epochs + lr_sustain_epochs:\n",
    "            lr = lr_max\n",
    "        else:\n",
    "            lr = (lr_max - lr_min) *\\\n",
    "                 lr_exp_decay**(epoch - lr_rampup_epochs- lr_sustain_epochs) + lr_min\n",
    "        return lr\n",
    "    return lrfn\n",
    "\n",
    "aug = albu.Compose(\n",
    "    [\n",
    "        albu.HorizontalFlip(p=.5),\n",
    "        albu.VerticalFlip(p=.5),\n",
    "#         albu.ShiftScaleRotate(shift_limit=.1, scale_limit=.1, rotate_limit=20, p=.25)\n",
    "    ]\n",
    ")"
   ]
  },
  {
   "cell_type": "code",
   "execution_count": 27,
   "metadata": {
    "scrolled": true
   },
   "outputs": [
    {
     "name": "stdout",
     "output_type": "stream",
     "text": [
      "Model: \"sequential_1\"\n",
      "_________________________________________________________________\n",
      "Layer (type)                 Output Shape              Param #   \n",
      "=================================================================\n",
      "efficientnet-b5 (Functional) (None, 7, 7, 2048)        28513520  \n",
      "_________________________________________________________________\n",
      "global_average_pooling2d_1 ( (None, 2048)              0         \n",
      "_________________________________________________________________\n",
      "dense_2 (Dense)              (None, 512)               1049088   \n",
      "_________________________________________________________________\n",
      "batch_normalization_1 (Batch (None, 512)               2048      \n",
      "_________________________________________________________________\n",
      "dropout_1 (Dropout)          (None, 512)               0         \n",
      "_________________________________________________________________\n",
      "dense_3 (Dense)              (None, 2)                 1026      \n",
      "=================================================================\n",
      "Total params: 29,565,682\n",
      "Trainable params: 29,391,922\n",
      "Non-trainable params: 173,760\n",
      "_________________________________________________________________\n"
     ]
    }
   ],
   "source": [
    "# model = ModelCNN_resnet50()\n",
    "# model = ModelCNN_resnet152()\n",
    "# model = ModelCNN_InceptionResNetV2()\n",
    "# model = ModelCNN_resnext101()\n",
    "# model = ModelCNN_efnb7()\n",
    "model = ModelCNN_efnb5()\n",
    "\n",
    "model_file = 'best_efnb5_1_224_.h5'\n",
    "lrfn = build_lrfn()\n",
    "lr_schedule = tf.keras.callbacks.LearningRateScheduler(lrfn, verbose=1)\n",
    "#learning_rate_reduction = ReduceLROnPlateau(monitor='val_acc', \n",
    "#                                            patience=3, \n",
    "#                                            verbose=1, \n",
    "#                                            factor=0.5, \n",
    "#                                            min_lr=0.00001)\n",
    "epochs = 50\n",
    "EarlyStopping=tf.keras.callbacks.EarlyStopping(monitor=\"val_loss\",patience=7,verbose=True, mode=\"min\")\n",
    "modelsaver = tf.keras.callbacks.ModelCheckpoint(\n",
    "    model_file, \n",
    "    monitor='val_loss', \n",
    "    verbose=1, \n",
    "    save_best_only=True,\n",
    "    mode='min'\n",
    ")\n",
    "start_epoch = 4\n",
    "swa = SWA(start_epoch=start_epoch, \n",
    "          lr_schedule='cyclic', \n",
    "          swa_lr  = 0.000001,\n",
    "          swa_lr2 = 0.000009,\n",
    "          swa_freq=3,\n",
    "          batch_size = 30,\n",
    "          verbose=1)\n",
    "\n",
    "cosine_scheduler = CosineAnnealingScheduler(T_max=100, eta_max=3e-4, eta_min=1e-6)"
   ]
  },
  {
   "cell_type": "code",
   "execution_count": 28,
   "metadata": {},
   "outputs": [
    {
     "name": "stdout",
     "output_type": "stream",
     "text": [
      "(224, 224, 3)\n"
     ]
    },
    {
     "data": {
      "text/plain": [
       "<matplotlib.image.AxesImage at 0x7fd6ae7d62b0>"
      ]
     },
     "execution_count": 28,
     "metadata": {},
     "output_type": "execute_result"
    },
    {
     "data": {
      "image/png": "[encoded data removed]",
      "text/plain": [
       "<Figure size 432x288 with 1 Axes>"
      ]
     },
     "metadata": {
      "needs_background": "light"
     },
     "output_type": "display_data"
    }
   ],
   "source": [
    "def read_image(image_path, resize_ratio=3.3):\n",
    "    if not(isinstance(image_path, str)):\n",
    "        # if tensor with byte string\n",
    "        image_path = image_path.numpy().decode('utf-8')\n",
    "\n",
    "    image_level_1 = skimage.io.MultiImage(image_path)[0]\n",
    "    \n",
    "    if resize_ratio != 1:\n",
    "        new_w = int(image_level_1.shape[1]*resize_ratio)\n",
    "        new_h = int(image_level_1.shape[0]*resize_ratio)\n",
    "        image_level_1 = cv2.resize(\n",
    "            image_level_1, (new_w, new_h), interpolation=cv2.INTER_AREA)\n",
    "        image_level_1 = cv2.normalize(image_level_1, None, alpha=0, beta=1, norm_type=cv2.NORM_MINMAX, dtype=cv2.CV_32F)\n",
    "    \n",
    "    return image_level_1\n",
    "\n",
    "\n",
    "image = read_image(task_dir + '23.tif')\n",
    "print(image.shape)\n",
    "plt.imshow(image)"
   ]
  },
  {
   "cell_type": "markdown",
   "metadata": {},
   "source": [
    "## Predict Crack tile"
   ]
  },
  {
   "cell_type": "code",
   "execution_count": 26,
   "metadata": {},
   "outputs": [],
   "source": [
    "# saved model call\n",
    "\n",
    "from tensorflow import keras\n",
    "save_model = keras.models.load_model(\"best_efnb7_7.h5\",\n",
    "                                              custom_objects={\n",
    "                                                  'recall': recall,\n",
    "                                                  'precision': precision,\n",
    "                                                  'f1score' : f1score,\n",
    "                                                  'Gelu' : Gelu(gelu)\n",
    "                                              }\n",
    "                                             )"
   ]
  },
  {
   "cell_type": "code",
   "execution_count": 27,
   "metadata": {},
   "outputs": [
    {
     "data": {
      "application/vnd.jupyter.widget-view+json": {
       "model_id": "beafc8e25b7044b897ba6073dd3c698a",
       "version_major": 2,
       "version_minor": 0
      },
      "text/plain": [
       "HBox(children=(HTML(value=''), FloatProgress(value=0.0, max=9192.0), HTML(value='')))"
      ]
     },
     "metadata": {},
     "output_type": "display_data"
    },
    {
     "name": "stdout",
     "output_type": "stream",
     "text": [
      "\n"
     ]
    }
   ],
   "source": [
    "test_PATH = '/home/workspace/data/.train/.task153/data/test/'\n",
    "test_df = pd.read_csv('/home/workspace/data/.train/.task153/data/test/test.csv',names=['file','tile','label'],sep=',',skiprows=1)\n",
    "test_N = test_df.shape[0]\n",
    "test_x = np.empty((test_N,156,156,3), dtype=np.uint8)\n",
    "for i,path in enumerate(tqdm(test_df.file)): \n",
    "    image = read_image(test_PATH + path)\n",
    "    test_x[i,:,:,:] =  image"
   ]
  },
  {
   "cell_type": "code",
   "execution_count": 28,
   "metadata": {},
   "outputs": [
    {
     "name": "stdout",
     "output_type": "stream",
     "text": [
      "preds done, total: 9192\n",
      "0    8324\n",
      "1     868\n",
      "Name: label, dtype: int64\n",
      "submission saved\n"
     ]
    }
   ],
   "source": [
    "# preds = model.predict_generator(test_datagen)\n",
    "preds = save_model.predict(test_x)\n",
    "print('preds done, total:', len(preds))\n",
    "\n",
    "test_df['label'] = np.argmax(preds, axis=1)\n",
    "print(test_df.label.value_counts())\n",
    "test_df.to_csv('submission_best_efnb7_7.csv', index=False)\n",
    "print('submission saved')"
   ]
  },
  {
   "cell_type": "code",
   "execution_count": 29,
   "metadata": {},
   "outputs": [],
   "source": [
    "#제출파일 생성\n",
    "test_df.label.to_csv('/home/workspace/user-workspace/prediction/prediction.csv',header=None,index=None)"
   ]
  },
  {
   "cell_type": "code",
   "execution_count": 27,
   "metadata": {},
   "outputs": [],
   "source": [
    "# test_df = pd.read_csv('/home/workspace/data/.train/.task153/data/test/test.csv',names=['file','tile','label'],sep=',',skiprows=1)\n",
    "# preds = [[0] * 2] * len(test_df)\n",
    "# test_datagen = Datatile(\n",
    "#     imgs_path='/home/workspace/data/.train/.task153/data/test/', \n",
    "#     df=test_df,\n",
    "#     batch_size=1,\n",
    "#     mode='predict', \n",
    "#     shuffle=False, \n",
    "#     aug=None, \n",
    "#     seq_len=SEQ_LEN, \n",
    "#     img_size=IMG_SIZE, \n",
    "#     n_classes=2\n",
    "# )\n",
    "# # preds = model.predict_generator(test_datagen)\n",
    "# preds = model.predict_generator(test_datagen)\n",
    "# print('preds done, total:', len(preds))\n",
    "\n",
    "# test_df['label'] = np.argmax(preds, axis=1)\n",
    "# print(test_df.label.value_counts())\n",
    "# test_df.to_csv('submission_trans_efnb7.csv', index=False)\n",
    "# print('submission saved')\n",
    "\n",
    "# #제출파일 생성\n",
    "# test_df.label.to_csv('/home/workspace/user-workspace/prediction/prediction.csv',header=None,index=None)"
   ]
  },
  {
   "cell_type": "code",
   "execution_count": 28,
   "metadata": {},
   "outputs": [],
   "source": [
    "# import pandas as pd\n",
    "# result_df = pd.read_csv('submission_aug_resnet50_47.csv',names=['file','tile','label'],sep=',',skiprows=1)\n",
    "# print(result_df.label.value_counts())"
   ]
  },
  {
   "cell_type": "code",
   "execution_count": null,
   "metadata": {},
   "outputs": [],
   "source": []
  },
  {
   "cell_type": "code",
   "execution_count": null,
   "metadata": {},
   "outputs": [],
   "source": []
  }
 ],
 "metadata": {
  "kernelspec": {
   "display_name": "Python 3",
   "language": "python",
   "name": "python3"
  },
  "language_info": {
   "codemirror_mode": {
    "name": "ipython",
    "version": 3
   },
   "file_extension": ".py",
   "mimetype": "text/x-python",
   "name": "python",
   "nbconvert_exporter": "python",
   "pygments_lexer": "ipython3",
   "version": "3.7.6"
  }
 },
 "nbformat": 4,
 "nbformat_minor": 4
}
