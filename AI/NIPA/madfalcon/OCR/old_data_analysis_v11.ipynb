{
 "cells": [
  {
   "cell_type": "code",
   "execution_count": 1,
   "metadata": {},
   "outputs": [
    {
     "name": "stdout",
     "output_type": "stream",
     "text": [
      "              total        used        free      shared  buff/cache   available\r\n",
      "Mem:          90614       15729       66406         235        8478       74021\r\n",
      "Swap:             0           0           0\r\n"
     ]
    }
   ],
   "source": [
    "!free -m"
   ]
  },
  {
   "cell_type": "code",
   "execution_count": 13,
   "metadata": {},
   "outputs": [
    {
     "name": "stdout",
     "output_type": "stream",
     "text": [
      "Sun Nov 15 02:37:47 2020       \r\n",
      "+-----------------------------------------------------------------------------+\r\n",
      "| NVIDIA-SMI 418.67       Driver Version: 418.67       CUDA Version: 10.1     |\r\n",
      "|-------------------------------+----------------------+----------------------+\r\n",
      "| GPU  Name        Persistence-M| Bus-Id        Disp.A | Volatile Uncorr. ECC |\r\n",
      "| Fan  Temp  Perf  Pwr:Usage/Cap|         Memory-Usage | GPU-Util  Compute M. |\r\n",
      "|===============================+======================+======================|\r\n",
      "|   0  Tesla V100-SXM2...  On   | 00000000:00:05.0 Off |                  Off |\r\n",
      "| N/A   45C    P0    84W / 300W |  15008MiB / 32480MiB |     61%      Default |\r\n",
      "+-------------------------------+----------------------+----------------------+\r\n",
      "                                                                               \r\n",
      "+-----------------------------------------------------------------------------+\r\n",
      "| Processes:                                                       GPU Memory |\r\n",
      "|  GPU       PID   Type   Process name                             Usage      |\r\n",
      "|=============================================================================|\r\n",
      "+-----------------------------------------------------------------------------+\r\n"
     ]
    }
   ],
   "source": [
    "!nvidia-smi"
   ]
  },
  {
   "cell_type": "code",
   "execution_count": 3,
   "metadata": {},
   "outputs": [],
   "source": [
    "# #한글폰트\n",
    "# import matplotlib\n",
    "# import matplotlib.font_manager as fm\n",
    "# fm.get_fontconfig_fonts()\n",
    "# font_location = '/home/workspace/user-workspace/font/NanumGothicCoding.ttf'\n",
    "# # font_location = 'C:/Windows/Fonts/NanumGothic.ttf' # For Windows\n",
    "# font_name = fm.FontProperties(fname=font_location).get_name()\n",
    "# matplotlib.rc('font', family=font_name)\n",
    "\n",
    "# %matplotlib inline"
   ]
  },
  {
   "cell_type": "code",
   "execution_count": 4,
   "metadata": {},
   "outputs": [],
   "source": [
    "import numpy as np\n",
    "import pandas as pd\n",
    "import cv2 \n",
    "import os\n",
    "from matplotlib import pyplot as plt\n",
    "from sklearn.model_selection import train_test_split\n",
    "from tqdm.notebook import tqdm\n",
    "import skimage.io"
   ]
  },
  {
   "cell_type": "code",
   "execution_count": 5,
   "metadata": {},
   "outputs": [],
   "source": [
    "test_dir = '/home/workspace/data/.train/.task157/test/'"
   ]
  },
  {
   "cell_type": "code",
   "execution_count": 6,
   "metadata": {},
   "outputs": [],
   "source": [
    "# # 사진 확인\n",
    "# img = cv2.imread(test_dir+'80_[57_01_01].tif')\n",
    "# img = cv2.normalize(img, None, 0, 255, cv2.NORM_MINMAX)\n",
    "# print(img.shape)\n",
    "# plt.imshow(img)\n"
   ]
  },
  {
   "cell_type": "markdown",
   "metadata": {},
   "source": [
    "## Data Call"
   ]
  },
  {
   "cell_type": "code",
   "execution_count": 7,
   "metadata": {},
   "outputs": [
    {
     "name": "stdout",
     "output_type": "stream",
     "text": [
      "characters len : 458\n"
     ]
    }
   ],
   "source": [
    "#csv call\n",
    "groups_folder_path = '/home/workspace/data/.train/.task157/train/'\n",
    "df = pd.read_csv('/home/workspace/data/.train/.task157/train/train.csv',sep=',')\n",
    "# datasetcsv\n",
    "\n",
    "# ans 항목 NaN값인 애들 제거\n",
    "index_nan = df[df['ans'].isnull() == True].index\n",
    "df.drop(index_nan, inplace=True)\n",
    "df.reset_index(drop=True, inplace=True)\n",
    "\n",
    "\n",
    "# Store all the characters in a set\n",
    "characters = set()\n",
    "\n",
    "for vals in list(df['ans']):\n",
    "    for ch in vals:\n",
    "        characters.add(ch)\n",
    "\n",
    "# Sort the characters        \n",
    "characters = sorted(characters)\n",
    "print(f\"characters len : {len(characters)}\")\n",
    "\n",
    "char_to_labels = {char:idx for idx, char in enumerate(characters)}\n",
    "labels_to_char = {val:key for key, val in char_to_labels.items()}"
   ]
  },
  {
   "cell_type": "markdown",
   "metadata": {},
   "source": [
    "# 학습준비"
   ]
  },
  {
   "cell_type": "code",
   "execution_count": 8,
   "metadata": {},
   "outputs": [],
   "source": [
    "#GPU 사용하는 만큼만 사용\n",
    "import tensorflow as tf\n",
    "gpus = tf.config.experimental.list_physical_devices('GPU')\n",
    "if gpus:\n",
    "    try:\n",
    "        tf.config.experimental.set_memory_growth(gpus[0], True)\n",
    "    except RuntimeError as e:\n",
    "        # 프로그램 시작시에 메모리 증가가 설정되어야만 합니다\n",
    "        print(e)"
   ]
  },
  {
   "cell_type": "code",
   "execution_count": 9,
   "metadata": {},
   "outputs": [],
   "source": [
    "import os\n",
    "import cv2\n",
    "import random\n",
    "import numpy as np\n",
    "import pandas as pd\n",
    "import matplotlib.pyplot as plt\n",
    "\n",
    "import tensorflow as tf\n",
    "from keras import backend as K\n",
    "from keras.models import Model\n",
    "from keras.layers import Input, Conv2D, MaxPooling2D, Reshape, Bidirectional, LSTM,GRU, Dense, Lambda, Activation, BatchNormalization, Dropout, ZeroPadding2D, Add\n",
    "from keras.optimizers import Adam\n",
    "\n",
    "from keras.callbacks import EarlyStopping\n",
    "from keras.callbacks import ModelCheckpoint\n",
    "from tensorflow import keras"
   ]
  },
  {
   "cell_type": "code",
   "execution_count": 10,
   "metadata": {},
   "outputs": [],
   "source": [
    "#문자를 숫자화\n",
    "# 전체 문자\n",
    "pattern=\" ,.()[]\\'\\\"/\\\\?!$%*+-:;<>_{|}~·※↑√①②③④⑤⑥⑦⑧⑨⑩⑪⑫⑬⑭⑮⑯Ⓑ■□●☎☏「」01234567890abcdefghijklmnopqrstuvwxyzABCDEFGHIJKLMNOPQRSTUVWXYZ가각간갇갈갉갊감갑값갓갔강갖갗같갚갛개객갠갤갬갭갯갰갱갸갹갼걀걋걍걔걘걜거걱건걷걸걺검겁것겄겅겆겉겊겋게겐겔겜겝겟겠겡겨격겪견겯결겸겹겻겼경곁계곈곌곕곗고곡곤곧골곪곬곯곰곱곳공곶과곽관괄괆괌괍괏광괘괜괠괩괬괭괴괵괸괼굄굅굇굉교굔굘굡굣구국군굳굴굵굶굻굼굽굿궁궂궈궉권궐궜궝궤궷귀귁귄귈귐귑귓규균귤그극근귿글긁금급긋긍긔기긱긴긷길긺김깁깃깅깆깊까깍깎깐깔깖깜깝깟깠깡깥깨깩깬깰깸깹깻깼깽꺄꺅꺌꺼꺽꺾껀껄껌껍껏껐껑께껙껜껨껫껭껴껸껼꼇꼈꼍꼐꼬꼭꼰꼲꼴꼼꼽꼿꽁꽂꽃꽈꽉꽐꽜꽝꽤꽥꽹꾀꾄꾈꾐꾑꾕꾜꾸꾹꾼꿀꿇꿈꿉꿋꿍꿎꿔꿜꿨꿩꿰꿱꿴꿸뀀뀁뀄뀌뀐뀔뀜뀝뀨끄끅끈끊끌끎끓끔끕끗끙끝끼끽낀낄낌낍낏낑나낙낚난낟날낡낢남납낫났낭낮낯낱낳내낵낸낼냄냅냇냈냉냐냑냔냘냠냥너넉넋넌널넒넓넘넙넛넜넝넣네넥넨넬넴넵넷넸넹녀녁년녈념녑녔녕녘녜녠노녹논놀놂놈놉놋농높놓놔놘놜놨뇌뇐뇔뇜뇝뇟뇨뇩뇬뇰뇹뇻뇽누눅눈눋눌눔눕눗눙눠눴눼뉘뉜뉠뉨뉩뉴뉵뉼늄늅늉느늑는늘늙늚늠늡늣능늦늪늬늰늴니닉닌닐닒님닙닛닝닢다닥닦단닫달닭닮닯닳담답닷닸당닺닻닿대댁댄댈댐댑댓댔댕댜더덕덖던덛덜덞덟덤덥덧덩덫덮데덱덴델뎀뎁뎃뎄뎅뎌뎐뎔뎠뎡뎨뎬도독돈돋돌돎돐돔돕돗동돛돝돠돤돨돼됐되된될됨됩됫됴두둑둔둘둠둡둣둥둬뒀뒈뒝뒤뒨뒬뒵뒷뒹듀듄듈듐듕드득든듣들듦듬듭듯등듸디딕딘딛딜딤딥딧딨딩딪따딱딴딸땀땁땃땄땅땋때땍땐땔땜땝땟땠땡떠떡떤떨떪떫떰떱떳떴떵떻떼떽뗀뗄뗌뗍뗏뗐뗑뗘뗬또똑똔똘똥똬똴뙈뙤뙨뚜뚝뚠뚤뚫뚬뚱뛔뛰뛴뛸뜀뜁뜅뜨뜩뜬뜯뜰뜸뜹뜻띄띈띌띔띕띠띤띨띰띱띳띵라락란랄람랍랏랐랑랒랖랗래랙랜랠램랩랫랬랭랴략랸럇량러럭런럴럼럽럿렀렁렇레렉렌렐렘렙렛렝려력련렬렴렵렷렸령례롄롑롓로록론롤롬롭롯롱롸롼뢍뢨뢰뢴뢸룀룁룃룅료룐룔룝룟룡루룩룬룰룸룹룻룽뤄뤘뤠뤼뤽륀륄륌륏륑류륙륜률륨륩륫륭르륵른를름릅릇릉릊릍릎리릭린릴림립릿링마막만많맏말맑맒맘맙맛망맞맡맣매맥맨맬맴맵맷맸맹맺먀먁먈먕머먹먼멀멂멈멉멋멍멎멓메멕멘멜멤멥멧멨멩며멱면멸몃몄명몇몌모목몫몬몰몲몸몹못몽뫄뫈뫘뫙뫼묀묄묍묏묑묘묜묠묩묫무묵묶문묻물묽묾뭄뭅뭇뭉뭍뭏뭐뭔뭘뭡뭣뭬뮈뮌뮐뮤뮨뮬뮴뮷므믄믈믐믓미믹민믿밀밂밈밉밋밌밍및밑바박밖밗반받발밝밞밟밤밥밧방밭배백밴밸뱀뱁뱃뱄뱅뱉뱌뱍뱐뱝버벅번벋벌벎범법벗벙벚베벡벤벧벨벰벱벳벴벵벼벽변별볍볏볐병볕볘볜보복볶본볼봄봅봇봉봐봔봤봬뵀뵈뵉뵌뵐뵘뵙뵤뵨부북분붇불붉붊붐붑붓붕붙붚붜붤붰붸뷔뷕뷘뷜뷩뷰뷴뷸븀븃븅브븍븐블븜븝븟비빅빈빌빎빔빕빗빙빚빛빠빡빤빨빪빰빱빳빴빵빻빼빽뺀뺄뺌뺍뺏뺐뺑뺘뺙뺨뻐뻑뻔뻗뻘뻠뻣뻤뻥뻬뼁뼈뼉뼘뼙뼛뼜뼝뽀뽁뽄뽈뽐뽑뽕뾔뾰뿅뿌뿍뿐뿔뿜뿟뿡쀼쁑쁘쁜쁠쁨쁩삐삑삔삘삠삡삣삥사삭삯산삳살삵삶삼삽삿샀상샅새색샌샐샘샙샛샜생샤샥샨샬샴샵샷샹섀섄섈섐섕서석섞섟선섣설섦섧섬섭섯섰성섶세섹센셀셈셉셋셌셍셔셕션셜셤셥셧셨셩셰셴셸솅소속솎손솔솖솜솝솟송솥솨솩솬솰솽쇄쇈쇌쇔쇗쇘쇠쇤쇨쇰쇱쇳쇼쇽숀숄숌숍숏숑수숙순숟술숨숩숫숭숯숱숲숴쉈쉐쉑쉔쉘쉠쉥쉬쉭쉰쉴쉼쉽쉿슁슈슉슐슘슛슝스슥슨슬슭슴습슷승시식신싣실싫심십싯싱싶싸싹싻싼쌀쌈쌉쌌쌍쌓쌔쌕쌘쌜쌤쌥쌨쌩썅써썩썬썰썲썸썹썼썽쎄쎈쎌쏀쏘쏙쏜쏟쏠쏢쏨쏩쏭쏴쏵쏸쐈쐐쐤쐬쐰쐴쐼쐽쑈쑤쑥쑨쑬쑴쑵쑹쒀쒔쒜쒸쒼쓩쓰쓱쓴쓸쓺쓿씀씁씌씐씔씜씨씩씬씰씸씹씻씽아악안앉않알앍앎앓암압앗았앙앝앞애액앤앨앰앱앳앴앵야약얀얄얇얌얍얏양얕얗얘얜얠얩어억언얹얻얼얽얾엄업없엇었엉엊엌엎에엑엔엘엠엡엣엥여역엮연열엶엷염엽엾엿였영옅옆옇예옌옐옘옙옛옜오옥온올옭옮옰옳옴옵옷옹옻와왁완왈왐왑왓왔왕왜왝왠왬왯왱외왹왼욀욈욉욋욍요욕욘욜욤욥욧용우욱운울욹욺움웁웃웅워웍원월웜웝웠웡웨웩웬웰웸웹웽위윅윈윌윔윕윗윙유육윤율윰윱윳융윷으윽은을읊음읍읏응읒읓읔읕읖읗의읩읜읠읨읫이익인일읽읾잃임입잇있잉잊잎자작잔잖잗잘잚잠잡잣잤장잦재잭잰잴잼잽잿쟀쟁쟈쟉쟌쟎쟐쟘쟝쟤쟨쟬저적전절젊점접젓정젖제젝젠젤젬젭젯젱져젼졀졈졉졌졍졔조족존졸졺좀좁좃종좆좇좋좌좍좔좝좟좡좨좼좽죄죈죌죔죕죗죙죠죡죤죵주죽준줄줅줆줌줍줏중줘줬줴쥐쥑쥔쥘쥠쥡쥣쥬쥰쥴쥼즈즉즌즐즘즙즛증지직진짇질짊짐집짓징짖짙짚짜짝짠짢짤짧짬짭짯짰짱째짹짼쨀쨈쨉쨋쨌쨍쨔쨘쨩쩌쩍쩐쩔쩜쩝쩟쩠쩡쩨쩽쪄쪘쪼쪽쫀쫄쫌쫍쫏쫑쫓쫘쫙쫠쫬쫴쬈쬐쬔쬘쬠쬡쭁쭈쭉쭌쭐쭘쭙쭝쭤쭸쭹쮜쮸쯔쯤쯧쯩찌찍찐찔찜찝찡찢찧차착찬찮찰참찹찻찼창찾채책챈챌챔챕챗챘챙챠챤챦챨챰챵처척천철첨첩첫첬청체첵첸첼쳄쳅쳇쳉쳐쳔쳤쳬쳰촁초촉촌촐촘촙촛총촤촨촬촹최쵠쵤쵬쵭쵯쵱쵸춈추축춘출춤춥춧충춰췄췌췐취췬췰췸췹췻췽츄츈츌츔츙츠측츤츨츰츱츳층치칙친칟칠칡침칩칫칭카칵칸칼캄캅캇캉캐캑캔캘캠캡캣캤캥캬캭컁커컥컨컫컬컴컵컷컸컹케켁켄켈켐켑켓켕켜켠켤켬켭켯켰켱켸코콕콘콜콤콥콧콩콰콱콴콸쾀쾅쾌쾡쾨쾰쿄쿠쿡쿤쿨쿰쿱쿳쿵쿼퀀퀄퀑퀘퀭퀴퀵퀸퀼큄큅큇큉큐큔큘큠크큭큰클큼큽킁키킥킨킬킴킵킷킹타탁탄탈탉탐탑탓탔탕태택탠탤탬탭탯탰탱탸턍터턱턴털턺텀텁텃텄텅테텍텐텔템텝텟텡텨텬텼톄톈토톡톤톨톰톱톳통톺톼퇀퇘퇴퇸툇툉툐투툭툰툴툼툽툿퉁퉈퉜퉤튀튁튄튈튐튑튕튜튠튤튬튱트특튼튿틀틂틈틉틋틔틘틜틤틥티틱틴틸팀팁팃팅파팍팎판팔팖팜팝팟팠팡팥패팩팬팰팸팹팻팼팽퍄퍅퍼퍽펀펄펌펍펏펐펑페펙펜펠펨펩펫펭펴편펼폄폅폈평폐폘폡폣포폭폰폴폼폽폿퐁퐈퐝푀푄표푠푤푭푯푸푹푼푿풀풂품풉풋풍풔풩퓌퓐퓔퓜퓟퓨퓬퓰퓸퓻퓽프픈플픔픕픗피픽핀필핌핍핏핑하학한할핥함합핫항해핵핸핼햄햅햇했행햐향허헉헌헐헒험헙헛헝헤헥헨헬헴헵헷헹혀혁현혈혐협혓혔형혜혠혤혭호혹혼홀홅홈홉홋홍홑화확환활홧황홰홱홴횃횅회획횐횔횝횟횡효횬횰횹횻후훅훈훌훑훔훗훙훠훤훨훰훵훼훽휀휄휑휘휙휜휠휨휩휫휭휴휵휸휼흄흇흉흐흑흔흖흗흘흙흠흡흣흥흩희흰흴흼흽힁히힉힌힐힘힙힛힝\"\n",
    "max_str_len = 28 # max length of input labels 30\n",
    "num_of_characters = len(pattern) + 1 # +1 for ctc pseudo blank\n",
    "num_of_timestamps = 30 # max length of predicted labels 64\n",
    "\n",
    "\n",
    "def label_to_num(label):\n",
    "    label_num = []\n",
    "    for ch in label:\n",
    "        label_num.append(pattern.find(ch))\n",
    "        \n",
    "    return np.array(label_num)\n",
    "\n",
    "def num_to_label(num):\n",
    "    ret = \"\"\n",
    "    for ch in num:\n",
    "        if ch == -1:  # CTC Blank\n",
    "            break\n",
    "        else:\n",
    "            ret+=pattern[ch]\n",
    "    return ret"
   ]
  },
  {
   "cell_type": "code",
   "execution_count": 11,
   "metadata": {},
   "outputs": [],
   "source": [
    "def df_to_list(df,img_path,max_size):\n",
    "    \"\"\"\n",
    "        df : 데이터 프레임\n",
    "        img_path : 이미지 있는 경로들\n",
    "        max_size : resize 할 이미지 사이즈, (width, height) 순으로 들어가야 함\n",
    "    \"\"\"\n",
    "    \n",
    "    dataset_id_list = df[['name', 'ans']]\n",
    "    dataset_id_list = dataset_id_list.values.tolist()\n",
    "    \n",
    "    # 사진은 X 값을 Y에 저장\n",
    "    X = []\n",
    "    Y = []\n",
    "    \n",
    "    #image to array\n",
    "    for name, ans  in tqdm(dataset_id_list):\n",
    "        image_dir = img_path + name\n",
    "        img = cv2.imread(image_dir)\n",
    "        img = cv2.cvtColor(img, cv2.COLOR_BGR2GRAY)\n",
    "        img = (img/255.)\n",
    "        img = cv2.resize(img, dsize=max_size, interpolation=cv2.INTER_AREA)\n",
    "        img = cv2.normalize(img, None, 0, 255, cv2.NORM_MINMAX)\n",
    "        img = img.reshape(max_size[1] ,max_size[0],1)\n",
    "        X.append(img)        \n",
    "        img_ans = np.array(ans)\n",
    "        img_ans = img_ans.tolist()\n",
    "        Y.append(img_ans)  \n",
    "    \n",
    "    #numpy change\n",
    "    X = np.array(X, dtype = np.float32)\n",
    "    Y = np.array(Y)\n",
    "    \n",
    "    return X, Y"
   ]
  },
  {
   "cell_type": "code",
   "execution_count": 12,
   "metadata": {},
   "outputs": [],
   "source": [
    "def is_valid_char(text):\n",
    "    for ch in text:\n",
    "        if not ch in characters:\n",
    "            return False\n",
    "    return True"
   ]
  },
  {
   "cell_type": "code",
   "execution_count": 13,
   "metadata": {},
   "outputs": [],
   "source": [
    "class DataGenerator(keras.utils.Sequence):\n",
    "    \"\"\"Generates batches from a given dataset.\n",
    "    \n",
    "    Args:\n",
    "        data: training or validation data\n",
    "        labels: corresponding labels\n",
    "        char_map: dictionary mapping char to labels\n",
    "        batch_size: size of a single batch\n",
    "        img_width: width of the resized\n",
    "        img_height: height of the resized\n",
    "        downsample_factor: by what factor did the CNN downsample the images\n",
    "        max_length: maximum length of any captcha\n",
    "        shuffle: whether to shuffle data or not after each epoch\n",
    "    Returns:\n",
    "        batch_inputs: a dictionary containing batch inputs \n",
    "        batch_labels: a batch of corresponding labels \n",
    "    \"\"\"\n",
    "    \n",
    "    def __init__(self,\n",
    "                 data,\n",
    "                 labels,\n",
    "                 char_map,\n",
    "                 batch_size=16,\n",
    "                 img_width=540,\n",
    "                 img_height=54,\n",
    "                 downsample_factor=4,\n",
    "                 max_length=5,\n",
    "                 shuffle=True\n",
    "                ):\n",
    "        self.data = data\n",
    "        self.labels = labels\n",
    "        self.char_map = char_map\n",
    "        self.batch_size = batch_size\n",
    "        self.img_width = img_width\n",
    "        self.img_height = img_height\n",
    "        self.downsample_factor = downsample_factor\n",
    "        self.max_length = max_length\n",
    "        self.shuffle = shuffle\n",
    "        self.indices = np.arange(len(data))    \n",
    "        self.on_epoch_end()\n",
    "        \n",
    "    def __len__(self):\n",
    "        return int(np.ceil(len(self.data) / self.batch_size))\n",
    "    \n",
    "    def __getitem__(self, idx):\n",
    "        # 1. Get the next batch indices\n",
    "        curr_batch_idx = self.indices[idx*self.batch_size:(idx+1)*self.batch_size]\n",
    "        \n",
    "        # 2. This isn't necessary but it can help us save some memory\n",
    "        # as not all batches the last batch may not have elements\n",
    "        # equal to the batch_size \n",
    "        batch_len = len(curr_batch_idx)\n",
    "        \n",
    "        # 3. Instantiate batch arrays\n",
    "        batch_images = np.ones((batch_len, self.img_width, self.img_height, 1),\n",
    "                               dtype=np.float32)\n",
    "        batch_labels = np.ones((batch_len, self.max_length), dtype=np.float32)\n",
    "        input_length = np.ones((batch_len, 1), dtype=np.int64) * \\\n",
    "                                (self.img_width // self.downsample_factor - 2)\n",
    "        label_length = np.zeros((batch_len, 1), dtype=np.int64)\n",
    "        \n",
    "#         print(f\"curr_batch_idx : {curr_batch_idx}\")\n",
    "#         print(f\"batch_labels : {batch_labels}\")\n",
    "        for j, idx in enumerate(curr_batch_idx):\n",
    "            # 1. Get the image and transpose it\n",
    "            img = self.data[idx].T\n",
    "            # 2. Add extra dimenison\n",
    "            img = np.expand_dims(img, axis=-1)\n",
    "            \n",
    "            # 3. Get the correpsonding label\n",
    "            text = self.labels[idx]\n",
    "            \n",
    "            \n",
    "#             print(f\"img : {img.shape}\")\n",
    "#             print(f\"text : {text}\")\n",
    "            \n",
    "            # 4. Include the pair only if the captcha is valid\n",
    "            if is_valid_char(text):\n",
    "                label = [self.char_map[ch] for ch in text]\n",
    "#                 print(label)\n",
    "#                 print(batch_labels[j])\n",
    "                batch_images[j] = img\n",
    "                for index, val in enumerate(label):\n",
    "                    batch_labels[j][index] = val\n",
    "                label_length[j] = len(text)\n",
    "        \n",
    "        batch_inputs = {\n",
    "                'input_data': batch_images,\n",
    "                'input_label': batch_labels,\n",
    "                'input_length': input_length,\n",
    "                'label_length': label_length,\n",
    "                }\n",
    "        return batch_inputs, np.zeros(batch_len).astype(np.float32)\n",
    "        \n",
    "    \n",
    "    def on_epoch_end(self):\n",
    "        if self.shuffle:\n",
    "            np.random.shuffle(self.indices)"
   ]
  },
  {
   "cell_type": "code",
   "execution_count": 14,
   "metadata": {},
   "outputs": [],
   "source": [
    "# Batch size for training and validation\n",
    "batch_size = 30\n",
    "\n",
    "# Desired image dimensions\n",
    "img_width=540\n",
    "img_height=54 \n",
    "\n",
    "# Factor  by which the image is going to be downsampled\n",
    "# by the convolutional blocks\n",
    "downsample_factor=4\n",
    "\n",
    "# Maximum length of any captcha in the data\n",
    "max_length=max_str_len\n",
    "\n",
    "num_of_characters = len(pattern) + 1 # +1 for ctc pseudo blank\n",
    "num_of_timestamps = 30 # max length of predicted labels 64\n"
   ]
  },
  {
   "cell_type": "markdown",
   "metadata": {},
   "source": [
    "## 모델"
   ]
  },
  {
   "cell_type": "code",
   "execution_count": 15,
   "metadata": {},
   "outputs": [],
   "source": [
    "from pathlib import Path\n",
    "from collections import Counter\n",
    "\n",
    "from tensorflow import keras\n",
    "from tensorflow.keras import layers\n",
    "\n",
    "#efn model\n",
    "import efficientnet.tfkeras as efn\n",
    "\n",
    "from keras.applications.resnet50 import ResNet50"
   ]
  },
  {
   "cell_type": "code",
   "execution_count": 16,
   "metadata": {},
   "outputs": [],
   "source": [
    "# Desired image dimensions\n",
    "img_width=540\n",
    "img_height=54 \n"
   ]
  },
  {
   "cell_type": "code",
   "execution_count": 18,
   "metadata": {},
   "outputs": [],
   "source": [
    "class CTCLayer(layers.Layer):\n",
    "    def __init__(self, name=None):\n",
    "        super().__init__(name=name)\n",
    "        self.loss_fn = keras.backend.ctc_batch_cost\n",
    "\n",
    "    def call(self, y_true, y_pred, input_length, label_length):\n",
    "        # Compute the training-time loss value and add it\n",
    "        # to the layer using `self.add_loss()`.\n",
    "        loss = self.loss_fn(y_true, y_pred, input_length, label_length)\n",
    "        self.add_loss(loss)\n",
    "        \n",
    "        # On test time, just return the computed loss\n",
    "        return loss\n",
    "\n",
    "\n",
    "\n",
    "def build_model():\n",
    "    # Inputs to the model\n",
    "    input_img = layers.Input(shape=(img_width, img_height,1),\n",
    "                            name='input_data',\n",
    "                            dtype='float32')\n",
    "    labels = layers.Input(name='input_label', shape=[max_length], dtype='float32')\n",
    "    input_length = layers.Input(name='input_length', shape=[1], dtype='int64')\n",
    "    label_length = layers.Input(name='label_length', shape=[1], dtype='int64')\n",
    "    \n",
    "    # First conv block\n",
    "    \n",
    "    x = layers.Conv2D(32,\n",
    "               (3,3),\n",
    "               kernel_initializer='he_normal',\n",
    "               padding='same',\n",
    "               name='Conv1')(input_img)\n",
    "    x = BatchNormalization()(x)\n",
    "    x = Activation('relu')(x)\n",
    "    x = layers.MaxPooling2D((2,2), name='pool1')(x)\n",
    "    \n",
    "    # Second conv block\n",
    "    x = layers.Conv2D(64,\n",
    "               (3,3),\n",
    "               kernel_initializer='he_normal',\n",
    "               padding='same',\n",
    "               name='Conv2')(x)\n",
    "    x = BatchNormalization()(x)\n",
    "    x = Activation('relu')(x)\n",
    "    x = layers.MaxPooling2D((2,2), name='pool2')(x)\n",
    "    \n",
    "    # We have used two max pool with pool size and strides of 2.\n",
    "    # Hence, downsampled feature maps are 4x smaller. The number of\n",
    "    # filters in the last layer is 64. Reshape accordingly before\n",
    "    # passing it to RNNs\n",
    "    new_shape = ((img_width // 4), (img_height // 4)*64)\n",
    "    x = layers.Reshape(target_shape=new_shape, name='reshape')(x)\n",
    "    x = layers.Dense(1024, activation='relu', name='dense1')(x)\n",
    "    x = BatchNormalization(name='batchnorm1')(x)\n",
    "    x = layers.Dropout(0.2)(x)\n",
    "    \n",
    "    \n",
    "    # RNNs\n",
    "    x = layers.Bidirectional(layers.LSTM(512,\n",
    "                                         return_sequences=True,\n",
    "                                         dropout=0.2))(x)\n",
    "    x = layers.Bidirectional(layers.LSTM(256,\n",
    "                                         return_sequences=True,\n",
    "                                         dropout=0.2))(x)\n",
    "    \n",
    "    # Predictions\n",
    "#     x = BatchNormalization(name='batchnorm3')(x)\n",
    "    x = layers.Dense(len(characters)+1,\n",
    "              activation='softmax', \n",
    "              name='dense2',\n",
    "              kernel_initializer='he_normal')(x)\n",
    "    \n",
    "    \n",
    "    # Calculate CTC\n",
    "    output = CTCLayer(name='ctc_loss')(labels, x, input_length, label_length)\n",
    "    \n",
    "    # Define the model\n",
    "    model = keras.models.Model(inputs=[input_img,\n",
    "                                       labels,\n",
    "                                       input_length,\n",
    "                                       label_length],\n",
    "                                outputs=output,\n",
    "                                name='ocr_model_v1')\n",
    "    \n",
    "    # Optimizer\n",
    "    opti = keras.optimizers.Adam(lr=0.0001, epsilon=0.001,decay=1e-5, clipnorm=1.)\n",
    "#     sgd = keras.optimizers.SGD(learning_rate=0.002,decay=1e-6,momentum=0.9,nesterov=True,clipnorm=5)\n",
    "    \n",
    "    # Compile the model and return \n",
    "    model.compile(optimizer=opti)\n",
    "    \n",
    "    \n",
    "    return model"
   ]
  },
  {
   "cell_type": "markdown",
   "metadata": {},
   "source": [
    "# 학습"
   ]
  },
  {
   "cell_type": "code",
   "execution_count": 19,
   "metadata": {},
   "outputs": [],
   "source": [
    "def build_lrfn(lr_start=0.00001, lr_max=0.00005,lr_min=0.00001, lr_rampup_epochs=5,lr_sustain_epochs=0, lr_exp_decay=.8):\n",
    "    \n",
    "#     lr_max = lr_max * strategy.num_replicas_in_sync\n",
    "    lr_max = lr_max * 8\n",
    "    def lrfn(epoch):\n",
    "        if epoch < lr_rampup_epochs:\n",
    "            lr = (lr_max - lr_start) / lr_rampup_epochs * epoch + lr_start\n",
    "        elif epoch < lr_rampup_epochs + lr_sustain_epochs:\n",
    "            lr = lr_max\n",
    "        else:\n",
    "            lr = (lr_max - lr_min) *\\\n",
    "                 lr_exp_decay**(epoch - lr_rampup_epochs- lr_sustain_epochs) + lr_min\n",
    "        return lr\n",
    "    return lrfn"
   ]
  },
  {
   "cell_type": "code",
   "execution_count": 21,
   "metadata": {},
   "outputs": [
    {
     "name": "stdout",
     "output_type": "stream",
     "text": [
      "Model: \"ocr_model_v1\"\n",
      "__________________________________________________________________________________________________\n",
      "Layer (type)                    Output Shape         Param #     Connected to                     \n",
      "==================================================================================================\n",
      "input_data (InputLayer)         [(None, 540, 54, 1)] 0                                            \n",
      "__________________________________________________________________________________________________\n",
      "Conv1 (Conv2D)                  (None, 540, 54, 32)  320         input_data[0][0]                 \n",
      "__________________________________________________________________________________________________\n",
      "batch_normalization_2 (BatchNor (None, 540, 54, 32)  128         Conv1[0][0]                      \n",
      "__________________________________________________________________________________________________\n",
      "activation_2 (Activation)       (None, 540, 54, 32)  0           batch_normalization_2[0][0]      \n",
      "__________________________________________________________________________________________________\n",
      "pool1 (MaxPooling2D)            (None, 270, 27, 32)  0           activation_2[0][0]               \n",
      "__________________________________________________________________________________________________\n",
      "Conv2 (Conv2D)                  (None, 270, 27, 64)  18496       pool1[0][0]                      \n",
      "__________________________________________________________________________________________________\n",
      "batch_normalization_3 (BatchNor (None, 270, 27, 64)  256         Conv2[0][0]                      \n",
      "__________________________________________________________________________________________________\n",
      "activation_3 (Activation)       (None, 270, 27, 64)  0           batch_normalization_3[0][0]      \n",
      "__________________________________________________________________________________________________\n",
      "pool2 (MaxPooling2D)            (None, 135, 13, 64)  0           activation_3[0][0]               \n",
      "__________________________________________________________________________________________________\n",
      "reshape (Reshape)               (None, 135, 832)     0           pool2[0][0]                      \n",
      "__________________________________________________________________________________________________\n",
      "dense1 (Dense)                  (None, 135, 1024)    852992      reshape[0][0]                    \n",
      "__________________________________________________________________________________________________\n",
      "batchnorm1 (BatchNormalization) (None, 135, 1024)    4096        dense1[0][0]                     \n",
      "__________________________________________________________________________________________________\n",
      "dropout_1 (Dropout)             (None, 135, 1024)    0           batchnorm1[0][0]                 \n",
      "__________________________________________________________________________________________________\n",
      "bidirectional_2 (Bidirectional) (None, 135, 1024)    6295552     dropout_1[0][0]                  \n",
      "__________________________________________________________________________________________________\n",
      "bidirectional_3 (Bidirectional) (None, 135, 512)     2623488     bidirectional_2[0][0]            \n",
      "__________________________________________________________________________________________________\n",
      "input_label (InputLayer)        [(None, 28)]         0                                            \n",
      "__________________________________________________________________________________________________\n",
      "dense2 (Dense)                  (None, 135, 459)     235467      bidirectional_3[0][0]            \n",
      "__________________________________________________________________________________________________\n",
      "input_length (InputLayer)       [(None, 1)]          0                                            \n",
      "__________________________________________________________________________________________________\n",
      "label_length (InputLayer)       [(None, 1)]          0                                            \n",
      "__________________________________________________________________________________________________\n",
      "ctc_loss (CTCLayer)             (None, 1)            0           input_label[0][0]                \n",
      "                                                                 dense2[0][0]                     \n",
      "                                                                 input_length[0][0]               \n",
      "                                                                 label_length[0][0]               \n",
      "==================================================================================================\n",
      "Total params: 10,030,795\n",
      "Trainable params: 10,028,555\n",
      "Non-trainable params: 2,240\n",
      "__________________________________________________________________________________________________\n"
     ]
    }
   ],
   "source": [
    "version = '11'\n",
    "mc = ModelCheckpoint(f'saved_model/best_model_v{version}.h5', monitor='val_loss', mode='min', save_best_only=True, verbose=1)\n",
    "early_stopping = EarlyStopping(monitor='val_loss',patience=5)\n",
    "lrfn = build_lrfn()\n",
    "lr_schedule = tf.keras.callbacks.LearningRateScheduler(lrfn, verbose=1)\n",
    "model = build_model()\n",
    "# model.load_weights(\"saved_model/best_model_v8_efnb0.h5\")\n",
    "model.summary()"
   ]
  },
  {
   "cell_type": "code",
   "execution_count": 22,
   "metadata": {},
   "outputs": [],
   "source": [
    "from keras.utils.np_utils import to_categorical\n",
    "from sklearn.model_selection import KFold\n",
    "random_seed = 2020\n"
   ]
  },
  {
   "cell_type": "code",
   "execution_count": 23,
   "metadata": {
    "scrolled": true
   },
   "outputs": [
    {
     "name": "stdout",
     "output_type": "stream",
     "text": [
      "Fold1\n",
      "Part1 dataframe to list\n"
     ]
    },
    {
     "data": {
      "application/vnd.jupyter.widget-view+json": {
       "model_id": "7a59757b00184b9d9cbe43fc3f8a7bcf",
       "version_major": 2,
       "version_minor": 0
      },
      "text/plain": [
       "HBox(children=(HTML(value=''), FloatProgress(value=0.0, max=8554.0), HTML(value='')))"
      ]
     },
     "metadata": {},
     "output_type": "display_data"
    },
    {
     "name": "stdout",
     "output_type": "stream",
     "text": [
      "\n"
     ]
    },
    {
     "data": {
      "application/vnd.jupyter.widget-view+json": {
       "model_id": "6b883485642b41aab077e7c5d4841f37",
       "version_major": 2,
       "version_minor": 0
      },
      "text/plain": [
       "HBox(children=(HTML(value=''), FloatProgress(value=0.0, max=4278.0), HTML(value='')))"
      ]
     },
     "metadata": {},
     "output_type": "display_data"
    },
    {
     "name": "stdout",
     "output_type": "stream",
     "text": [
      "\n",
      "Part2 train/valid generator set...Done!\n",
      "Part3 model training\n",
      "Epoch 1/30\n",
      "286/286 [==============================] - ETA: 0s - loss: 151.6918\n",
      "Epoch 00001: val_loss improved from inf to 16.47134, saving model to saved_model/best_model_v11.h5\n",
      "286/286 [==============================] - 285s 995ms/step - loss: 151.6918 - val_loss: 16.4713\n",
      "Epoch 2/30\n",
      "286/286 [==============================] - ETA: 0s - loss: 14.0859\n",
      "Epoch 00002: val_loss improved from 16.47134 to 12.77092, saving model to saved_model/best_model_v11.h5\n",
      "286/286 [==============================] - 167s 584ms/step - loss: 14.0859 - val_loss: 12.7709\n",
      "Epoch 3/30\n",
      "286/286 [==============================] - ETA: 0s - loss: 11.2493\n",
      "Epoch 00003: val_loss improved from 12.77092 to 10.34087, saving model to saved_model/best_model_v11.h5\n",
      "286/286 [==============================] - 221s 774ms/step - loss: 11.2493 - val_loss: 10.3409\n",
      "Epoch 4/30\n",
      "286/286 [==============================] - ETA: 0s - loss: 9.2985\n",
      "Epoch 00004: val_loss improved from 10.34087 to 8.74729, saving model to saved_model/best_model_v11.h5\n",
      "286/286 [==============================] - 137s 479ms/step - loss: 9.2985 - val_loss: 8.7473\n",
      "Epoch 5/30\n",
      "286/286 [==============================] - ETA: 0s - loss: 7.8390\n",
      "Epoch 00005: val_loss improved from 8.74729 to 7.41851, saving model to saved_model/best_model_v11.h5\n",
      "286/286 [==============================] - 121s 423ms/step - loss: 7.8390 - val_loss: 7.4185\n",
      "Epoch 6/30\n",
      "286/286 [==============================] - ETA: 0s - loss: 6.7109\n",
      "Epoch 00006: val_loss improved from 7.41851 to 6.43714, saving model to saved_model/best_model_v11.h5\n",
      "286/286 [==============================] - 131s 458ms/step - loss: 6.7109 - val_loss: 6.4371\n",
      "Epoch 7/30\n",
      "286/286 [==============================] - ETA: 0s - loss: 5.8107\n",
      "Epoch 00007: val_loss improved from 6.43714 to 5.63868, saving model to saved_model/best_model_v11.h5\n",
      "286/286 [==============================] - 200s 701ms/step - loss: 5.8107 - val_loss: 5.6387\n",
      "Epoch 8/30\n",
      "286/286 [==============================] - ETA: 0s - loss: 5.0389\n",
      "Epoch 00008: val_loss improved from 5.63868 to 4.96072, saving model to saved_model/best_model_v11.h5\n",
      "286/286 [==============================] - 275s 961ms/step - loss: 5.0389 - val_loss: 4.9607\n",
      "Epoch 9/30\n",
      "286/286 [==============================] - ETA: 0s - loss: 4.3159\n",
      "Epoch 00009: val_loss improved from 4.96072 to 4.29338, saving model to saved_model/best_model_v11.h5\n",
      "286/286 [==============================] - 274s 958ms/step - loss: 4.3159 - val_loss: 4.2934\n",
      "Epoch 10/30\n",
      "286/286 [==============================] - ETA: 0s - loss: 3.6558\n",
      "Epoch 00010: val_loss improved from 4.29338 to 3.77042, saving model to saved_model/best_model_v11.h5\n",
      "286/286 [==============================] - 275s 960ms/step - loss: 3.6558 - val_loss: 3.7704\n",
      "Epoch 11/30\n",
      "286/286 [==============================] - ETA: 0s - loss: 3.1428\n",
      "Epoch 00011: val_loss improved from 3.77042 to 3.33148, saving model to saved_model/best_model_v11.h5\n",
      "286/286 [==============================] - 274s 958ms/step - loss: 3.1428 - val_loss: 3.3315\n",
      "Epoch 12/30\n",
      "286/286 [==============================] - ETA: 0s - loss: 2.7425\n",
      "Epoch 00012: val_loss improved from 3.33148 to 3.08182, saving model to saved_model/best_model_v11.h5\n",
      "286/286 [==============================] - 147s 514ms/step - loss: 2.7425 - val_loss: 3.0818\n",
      "Epoch 13/30\n",
      "286/286 [==============================] - ETA: 0s - loss: 2.3862\n",
      "Epoch 00013: val_loss improved from 3.08182 to 2.78562, saving model to saved_model/best_model_v11.h5\n",
      "286/286 [==============================] - 245s 856ms/step - loss: 2.3862 - val_loss: 2.7856\n",
      "Epoch 14/30\n",
      "286/286 [==============================] - ETA: 0s - loss: 2.1118\n",
      "Epoch 00014: val_loss improved from 2.78562 to 2.61437, saving model to saved_model/best_model_v11.h5\n",
      "286/286 [==============================] - 274s 959ms/step - loss: 2.1118 - val_loss: 2.6144\n",
      "Epoch 15/30\n",
      "286/286 [==============================] - ETA: 0s - loss: 1.8721\n",
      "Epoch 00015: val_loss improved from 2.61437 to 2.50509, saving model to saved_model/best_model_v11.h5\n",
      "286/286 [==============================] - 272s 951ms/step - loss: 1.8721 - val_loss: 2.5051\n",
      "Epoch 16/30\n",
      "286/286 [==============================] - ETA: 0s - loss: 1.6991\n",
      "Epoch 00016: val_loss improved from 2.50509 to 2.34048, saving model to saved_model/best_model_v11.h5\n",
      "286/286 [==============================] - 247s 862ms/step - loss: 1.6991 - val_loss: 2.3405\n",
      "Epoch 17/30\n",
      "286/286 [==============================] - ETA: 0s - loss: 1.5137\n",
      "Epoch 00017: val_loss improved from 2.34048 to 2.20203, saving model to saved_model/best_model_v11.h5\n",
      "286/286 [==============================] - 253s 886ms/step - loss: 1.5137 - val_loss: 2.2020\n",
      "Epoch 18/30\n",
      "286/286 [==============================] - ETA: 0s - loss: 1.3724\n",
      "Epoch 00018: val_loss improved from 2.20203 to 2.15264, saving model to saved_model/best_model_v11.h5\n",
      "286/286 [==============================] - 244s 855ms/step - loss: 1.3724 - val_loss: 2.1526\n",
      "Epoch 19/30\n",
      "286/286 [==============================] - ETA: 0s - loss: 1.2547\n",
      "Epoch 00019: val_loss improved from 2.15264 to 2.11204, saving model to saved_model/best_model_v11.h5\n",
      "286/286 [==============================] - 250s 875ms/step - loss: 1.2547 - val_loss: 2.1120\n",
      "Epoch 20/30\n",
      "286/286 [==============================] - ETA: 0s - loss: 1.1237\n",
      "Epoch 00020: val_loss improved from 2.11204 to 1.98389, saving model to saved_model/best_model_v11.h5\n",
      "286/286 [==============================] - 192s 671ms/step - loss: 1.1237 - val_loss: 1.9839\n",
      "Epoch 21/30\n",
      "286/286 [==============================] - ETA: 0s - loss: 1.0301\n",
      "Epoch 00021: val_loss improved from 1.98389 to 1.93030, saving model to saved_model/best_model_v11.h5\n",
      "286/286 [==============================] - 80s 278ms/step - loss: 1.0301 - val_loss: 1.9303\n",
      "Epoch 22/30\n",
      "286/286 [==============================] - ETA: 0s - loss: 0.9326\n",
      "Epoch 00022: val_loss did not improve from 1.93030\n",
      "286/286 [==============================] - 177s 620ms/step - loss: 0.9326 - val_loss: 1.9466\n",
      "Epoch 23/30\n",
      "286/286 [==============================] - ETA: 0s - loss: 0.8533\n",
      "Epoch 00023: val_loss improved from 1.93030 to 1.89969, saving model to saved_model/best_model_v11.h5\n",
      "286/286 [==============================] - 231s 806ms/step - loss: 0.8533 - val_loss: 1.8997\n",
      "Epoch 24/30\n",
      "286/286 [==============================] - ETA: 0s - loss: 0.7808\n",
      "Epoch 00024: val_loss improved from 1.89969 to 1.86118, saving model to saved_model/best_model_v11.h5\n",
      "286/286 [==============================] - 236s 824ms/step - loss: 0.7808 - val_loss: 1.8612\n",
      "Epoch 25/30\n",
      "286/286 [==============================] - ETA: 0s - loss: 0.7146\n",
      "Epoch 00025: val_loss did not improve from 1.86118\n",
      "286/286 [==============================] - 252s 880ms/step - loss: 0.7146 - val_loss: 1.8747\n",
      "Epoch 26/30\n",
      "286/286 [==============================] - ETA: 0s - loss: 0.6490\n",
      "Epoch 00026: val_loss improved from 1.86118 to 1.75712, saving model to saved_model/best_model_v11.h5\n",
      "286/286 [==============================] - 247s 863ms/step - loss: 0.6490 - val_loss: 1.7571\n",
      "Epoch 27/30\n",
      "286/286 [==============================] - ETA: 0s - loss: 0.5928\n",
      "Epoch 00027: val_loss did not improve from 1.75712\n",
      "286/286 [==============================] - 245s 858ms/step - loss: 0.5928 - val_loss: 1.8210\n",
      "Epoch 28/30\n",
      "286/286 [==============================] - ETA: 0s - loss: 0.5337\n",
      "Epoch 00028: val_loss did not improve from 1.75712\n",
      "286/286 [==============================] - 220s 770ms/step - loss: 0.5337 - val_loss: 1.7897\n",
      "Epoch 29/30\n",
      "286/286 [==============================] - ETA: 0s - loss: 0.4930\n",
      "Epoch 00029: val_loss improved from 1.75712 to 1.70621, saving model to saved_model/best_model_v11.h5\n",
      "286/286 [==============================] - 112s 390ms/step - loss: 0.4930 - val_loss: 1.7062\n",
      "Epoch 30/30\n",
      "286/286 [==============================] - ETA: 0s - loss: 0.4573\n",
      "Epoch 00030: val_loss did not improve from 1.70621\n",
      "286/286 [==============================] - 91s 317ms/step - loss: 0.4573 - val_loss: 1.7645\n",
      "Fold2\n",
      "Part1 dataframe to list\n"
     ]
    },
    {
     "data": {
      "application/vnd.jupyter.widget-view+json": {
       "model_id": "d1aaf5f9f2c5468f89c6acb83bb2a5a2",
       "version_major": 2,
       "version_minor": 0
      },
      "text/plain": [
       "HBox(children=(HTML(value=''), FloatProgress(value=0.0, max=8555.0), HTML(value='')))"
      ]
     },
     "metadata": {},
     "output_type": "display_data"
    },
    {
     "name": "stdout",
     "output_type": "stream",
     "text": [
      "\n"
     ]
    },
    {
     "data": {
      "application/vnd.jupyter.widget-view+json": {
       "model_id": "4602a459d1e1489d9e200f03766c7dc6",
       "version_major": 2,
       "version_minor": 0
      },
      "text/plain": [
       "HBox(children=(HTML(value=''), FloatProgress(value=0.0, max=4277.0), HTML(value='')))"
      ]
     },
     "metadata": {},
     "output_type": "display_data"
    },
    {
     "name": "stdout",
     "output_type": "stream",
     "text": [
      "\n",
      "Part2 train/valid generator set...Done!\n",
      "Part3 model training\n",
      "Epoch 1/30\n",
      "286/286 [==============================] - ETA: 0s - loss: 1.1307\n",
      "Epoch 00001: val_loss improved from 1.70621 to 0.33332, saving model to saved_model/best_model_v11.h5\n",
      "286/286 [==============================] - 103s 360ms/step - loss: 1.1307 - val_loss: 0.3333\n",
      "Epoch 2/30\n",
      "286/286 [==============================] - ETA: 0s - loss: 0.9379\n",
      "Epoch 00002: val_loss did not improve from 0.33332\n",
      "286/286 [==============================] - 79s 275ms/step - loss: 0.9379 - val_loss: 0.3430\n",
      "Epoch 3/30\n",
      "286/286 [==============================] - ETA: 0s - loss: 0.8189\n",
      "Epoch 00003: val_loss did not improve from 0.33332\n",
      "286/286 [==============================] - 92s 322ms/step - loss: 0.8189 - val_loss: 0.3621\n",
      "Epoch 4/30\n",
      "286/286 [==============================] - ETA: 0s - loss: 0.7220\n",
      "Epoch 00004: val_loss did not improve from 0.33332\n",
      "286/286 [==============================] - 93s 326ms/step - loss: 0.7220 - val_loss: 0.3984\n",
      "Epoch 5/30\n",
      "286/286 [==============================] - ETA: 0s - loss: 0.6550\n",
      "Epoch 00005: val_loss did not improve from 0.33332\n",
      "286/286 [==============================] - 79s 277ms/step - loss: 0.6550 - val_loss: 0.3942\n",
      "Epoch 6/30\n",
      "286/286 [==============================] - ETA: 0s - loss: 0.5827\n",
      "Epoch 00006: val_loss did not improve from 0.33332\n",
      "286/286 [==============================] - 95s 332ms/step - loss: 0.5827 - val_loss: 0.3837\n",
      "Fold3\n",
      "Part1 dataframe to list\n"
     ]
    },
    {
     "data": {
      "application/vnd.jupyter.widget-view+json": {
       "model_id": "530744176cda4c6b9d8b73b1e8eaf899",
       "version_major": 2,
       "version_minor": 0
      },
      "text/plain": [
       "HBox(children=(HTML(value=''), FloatProgress(value=0.0, max=8555.0), HTML(value='')))"
      ]
     },
     "metadata": {},
     "output_type": "display_data"
    },
    {
     "name": "stdout",
     "output_type": "stream",
     "text": [
      "\n"
     ]
    },
    {
     "data": {
      "application/vnd.jupyter.widget-view+json": {
       "model_id": "4dc4f5ad1748490185db484b984c9bd3",
       "version_major": 2,
       "version_minor": 0
      },
      "text/plain": [
       "HBox(children=(HTML(value=''), FloatProgress(value=0.0, max=4277.0), HTML(value='')))"
      ]
     },
     "metadata": {},
     "output_type": "display_data"
    },
    {
     "name": "stdout",
     "output_type": "stream",
     "text": [
      "\n",
      "Part2 train/valid generator set...Done!\n",
      "Part3 model training\n",
      "Epoch 1/30\n",
      "286/286 [==============================] - ETA: 0s - loss: 0.6037\n",
      "Epoch 00001: val_loss improved from 0.33332 to 0.28227, saving model to saved_model/best_model_v11.h5\n",
      "286/286 [==============================] - 84s 295ms/step - loss: 0.6037 - val_loss: 0.2823\n",
      "Epoch 2/30\n",
      "286/286 [==============================] - ETA: 0s - loss: 0.5231\n",
      "Epoch 00002: val_loss did not improve from 0.28227\n",
      "286/286 [==============================] - 94s 330ms/step - loss: 0.5231 - val_loss: 0.2971\n",
      "Epoch 3/30\n",
      "286/286 [==============================] - ETA: 0s - loss: 0.4661\n",
      "Epoch 00003: val_loss did not improve from 0.28227\n",
      "286/286 [==============================] - 80s 278ms/step - loss: 0.4661 - val_loss: 0.3754\n",
      "Epoch 4/30\n",
      "286/286 [==============================] - ETA: 0s - loss: 0.4132\n",
      "Epoch 00004: val_loss did not improve from 0.28227\n",
      "286/286 [==============================] - 95s 332ms/step - loss: 0.4132 - val_loss: 0.3883\n",
      "Epoch 5/30\n",
      "286/286 [==============================] - ETA: 0s - loss: 0.3623\n",
      "Epoch 00005: val_loss did not improve from 0.28227\n",
      "286/286 [==============================] - 78s 273ms/step - loss: 0.3623 - val_loss: 0.3892\n",
      "Epoch 6/30\n",
      "286/286 [==============================] - ETA: 0s - loss: 0.3390\n",
      "Epoch 00006: val_loss did not improve from 0.28227\n",
      "286/286 [==============================] - 92s 323ms/step - loss: 0.3390 - val_loss: 0.3956\n"
     ]
    }
   ],
   "source": [
    "kf = KFold(n_splits=3) # Fold 수\n",
    "# batch_size = 16\n",
    "index=1\n",
    "max_size = (540,54)\n",
    "img_path = '/home/workspace/data/.train/.task157/train/'\n",
    "for train,val in kf.split(df):\n",
    "    print('Fold'+ str(index))\n",
    "    train_df = df.iloc[train]\n",
    "    valid_df = df.iloc[val]\n",
    "    train_df = train_df.reset_index(drop=True)\n",
    "    valid_df = valid_df.reset_index(drop=True)\n",
    "        \n",
    "    print(\"Part1 dataframe to list\")\n",
    "    train_x, train_y = df_to_list(train_df, img_path, max_size)\n",
    "    valid_x, valid_y = df_to_list(valid_df, img_path, max_size)\n",
    "    \n",
    "    print(\"Part2 train/valid generator set\", end='...')\n",
    "    # Get a generator object for the training data\n",
    "    train_data_generator = DataGenerator(data=train_x,\n",
    "                                         labels=train_y,\n",
    "                                         char_map=char_to_labels,\n",
    "                                         batch_size=batch_size,\n",
    "                                         img_width=img_width,\n",
    "                                         img_height=img_height,\n",
    "                                         downsample_factor=downsample_factor,\n",
    "                                         max_length=max_length,\n",
    "                                         shuffle=True\n",
    "                                        )\n",
    "\n",
    "    # Get a generator object for the validation data \n",
    "    valid_data_generator = DataGenerator(data=valid_x,\n",
    "                                         labels=valid_y,\n",
    "                                         char_map=char_to_labels,\n",
    "                                         batch_size=batch_size,\n",
    "                                         img_width=img_width,\n",
    "                                         img_height=img_height,\n",
    "                                         downsample_factor=downsample_factor,\n",
    "                                         max_length=max_length,\n",
    "                                         shuffle=False\n",
    "                                        )\n",
    "    print(\"Done!\")\n",
    "    \n",
    "    print(\"Part3 model training\")\n",
    "    model.fit(train_data_generator,\n",
    "              validation_data=valid_data_generator,\n",
    "                epochs=30, batch_size=batch_size,callbacks=[early_stopping,mc])\n",
    "    \n",
    "    model.save(f\"Fold_{index}_model_v{version}.h5\")\n",
    "    index += 1"
   ]
  },
  {
   "cell_type": "markdown",
   "metadata": {},
   "source": [
    "## 예측"
   ]
  },
  {
   "cell_type": "code",
   "execution_count": 24,
   "metadata": {},
   "outputs": [
    {
     "name": "stdout",
     "output_type": "stream",
     "text": [
      "Model: \"ocr_model_v1\"\n",
      "__________________________________________________________________________________________________\n",
      "Layer (type)                    Output Shape         Param #     Connected to                     \n",
      "==================================================================================================\n",
      "input_data (InputLayer)         [(None, 540, 54, 1)] 0                                            \n",
      "__________________________________________________________________________________________________\n",
      "Conv1 (Conv2D)                  (None, 540, 54, 32)  320         input_data[0][0]                 \n",
      "__________________________________________________________________________________________________\n",
      "batch_normalization_4 (BatchNor (None, 540, 54, 32)  128         Conv1[0][0]                      \n",
      "__________________________________________________________________________________________________\n",
      "activation_4 (Activation)       (None, 540, 54, 32)  0           batch_normalization_4[0][0]      \n",
      "__________________________________________________________________________________________________\n",
      "pool1 (MaxPooling2D)            (None, 270, 27, 32)  0           activation_4[0][0]               \n",
      "__________________________________________________________________________________________________\n",
      "Conv2 (Conv2D)                  (None, 270, 27, 64)  18496       pool1[0][0]                      \n",
      "__________________________________________________________________________________________________\n",
      "batch_normalization_5 (BatchNor (None, 270, 27, 64)  256         Conv2[0][0]                      \n",
      "__________________________________________________________________________________________________\n",
      "activation_5 (Activation)       (None, 270, 27, 64)  0           batch_normalization_5[0][0]      \n",
      "__________________________________________________________________________________________________\n",
      "pool2 (MaxPooling2D)            (None, 135, 13, 64)  0           activation_5[0][0]               \n",
      "__________________________________________________________________________________________________\n",
      "reshape (Reshape)               (None, 135, 832)     0           pool2[0][0]                      \n",
      "__________________________________________________________________________________________________\n",
      "dense1 (Dense)                  (None, 135, 1024)    852992      reshape[0][0]                    \n",
      "__________________________________________________________________________________________________\n",
      "batchnorm1 (BatchNormalization) (None, 135, 1024)    4096        dense1[0][0]                     \n",
      "__________________________________________________________________________________________________\n",
      "dropout_2 (Dropout)             (None, 135, 1024)    0           batchnorm1[0][0]                 \n",
      "__________________________________________________________________________________________________\n",
      "bidirectional_4 (Bidirectional) (None, 135, 1024)    6295552     dropout_2[0][0]                  \n",
      "__________________________________________________________________________________________________\n",
      "bidirectional_5 (Bidirectional) (None, 135, 512)     2623488     bidirectional_4[0][0]            \n",
      "__________________________________________________________________________________________________\n",
      "input_label (InputLayer)        [(None, 28)]         0                                            \n",
      "__________________________________________________________________________________________________\n",
      "dense2 (Dense)                  (None, 135, 459)     235467      bidirectional_5[0][0]            \n",
      "__________________________________________________________________________________________________\n",
      "input_length (InputLayer)       [(None, 1)]          0                                            \n",
      "__________________________________________________________________________________________________\n",
      "label_length (InputLayer)       [(None, 1)]          0                                            \n",
      "__________________________________________________________________________________________________\n",
      "ctc_loss (CTCLayer)             (None, 1)            0           input_label[0][0]                \n",
      "                                                                 dense2[0][0]                     \n",
      "                                                                 input_length[0][0]               \n",
      "                                                                 label_length[0][0]               \n",
      "==================================================================================================\n",
      "Total params: 10,030,795\n",
      "Trainable params: 10,028,555\n",
      "Non-trainable params: 2,240\n",
      "__________________________________________________________________________________________________\n"
     ]
    }
   ],
   "source": [
    "from tensorflow import keras\n",
    "model = build_model()\n",
    "model.load_weights(\"saved_model/best_model_v11.h5\")\n",
    "model.summary()\n",
    "\n",
    "prediction_model = keras.models.Model(\n",
    "    model.get_layer(name=\"input_data\").input,\n",
    "    model.get_layer(name=\"dense2\").output\n",
    ")"
   ]
  },
  {
   "cell_type": "code",
   "execution_count": 25,
   "metadata": {},
   "outputs": [
    {
     "data": {
      "application/vnd.jupyter.widget-view+json": {
       "model_id": "85d1926f173d417d86e33ec7983e385b",
       "version_major": 2,
       "version_minor": 0
      },
      "text/plain": [
       "HBox(children=(HTML(value=''), FloatProgress(value=0.0, max=8000.0), HTML(value='')))"
      ]
     },
     "metadata": {},
     "output_type": "display_data"
    },
    {
     "name": "stdout",
     "output_type": "stream",
     "text": [
      "\n"
     ]
    }
   ],
   "source": [
    "#test data call and generator\n",
    "test_img_path = '/home/workspace/data/.train/.task157/test/'\n",
    "test_df = pd.read_csv('/home/workspace/data/.train/.task157/test/test.csv',sep=',')\n",
    "test_df['ans'] = 'space'\n",
    "\n",
    "max_size = (540,54)\n",
    "test_x, test_y = df_to_list(test_df, test_img_path, max_size)\n",
    "test_data_generator = DataGenerator(data=test_x,\n",
    "                                         labels=test_y,\n",
    "                                         char_map=char_to_labels,\n",
    "                                         batch_size=batch_size,\n",
    "                                         img_width=img_width,\n",
    "                                         img_height=img_height,\n",
    "                                         downsample_factor=downsample_factor,\n",
    "                                         max_length=max_length,\n",
    "                                         shuffle=False\n",
    "                                        )"
   ]
  },
  {
   "cell_type": "code",
   "execution_count": 26,
   "metadata": {},
   "outputs": [],
   "source": [
    "def decode_batch_predictions(pred):\n",
    "    pred = pred[:, :-2]\n",
    "    input_len = np.ones(pred.shape[0])*pred.shape[1]\n",
    "    \n",
    "    # Use greedy search. For complex tasks, you can use beam search\n",
    "    results = keras.backend.ctc_decode(pred, \n",
    "                                        input_length=input_len,\n",
    "                                        greedy=True)[0][0]\n",
    "    \n",
    "    # Iterate over the results and get back the text\n",
    "    output_text = []\n",
    "    for res in results.numpy():\n",
    "        outstr = ''\n",
    "        for c in res:\n",
    "            if c < len(characters) and c >=0:\n",
    "                outstr += labels_to_char[c]\n",
    "        output_text.append(outstr)\n",
    "    \n",
    "    # return final text results\n",
    "    return output_text"
   ]
  },
  {
   "cell_type": "code",
   "execution_count": 27,
   "metadata": {},
   "outputs": [
    {
     "data": {
      "text/plain": [
       "<matplotlib.image.AxesImage at 0x7fc397dd5f40>"
      ]
     },
     "execution_count": 27,
     "metadata": {},
     "output_type": "execute_result"
    },
    {
     "data": {
      "image/png": "[encoded data removed]",
      "text/plain": [
       "<Figure size 432x288 with 1 Axes>"
      ]
     },
     "metadata": {
      "needs_background": "light"
     },
     "output_type": "display_data"
    }
   ],
   "source": [
    "plt.imshow(test_x[0])"
   ]
  },
  {
   "cell_type": "code",
   "execution_count": 28,
   "metadata": {},
   "outputs": [
    {
     "data": {
      "application/vnd.jupyter.widget-view+json": {
       "model_id": "3d3e8358f2184f32a30e9056fa1f8e63",
       "version_major": 2,
       "version_minor": 0
      },
      "text/plain": [
       "HBox(children=(HTML(value=''), FloatProgress(value=1.0, bar_style='info', layout=Layout(width='20px'), max=1.0…"
      ]
     },
     "metadata": {},
     "output_type": "display_data"
    },
    {
     "name": "stdout",
     "output_type": "stream",
     "text": [
      "WARNING:tensorflow:From /home/workspace/user-workspace/lib/tensorflow/python/util/dispatch.py:201: sparse_to_dense (from tensorflow.python.ops.sparse_ops) is deprecated and will be removed in a future version.\n",
      "Instructions for updating:\n",
      "Create a `tf.sparse.SparseTensor` and use `tf.sparse.to_dense` instead.\n",
      "\n"
     ]
    }
   ],
   "source": [
    "result_texts = []\n",
    "#  Let's check results on some validation samples\n",
    "for p, (inp_value, _) in tqdm(enumerate(test_data_generator)):\n",
    "    bs = inp_value['input_data'].shape[0]\n",
    "    X_data = inp_value['input_data']\n",
    "    labels = inp_value['input_label']\n",
    "    preds = prediction_model.predict(X_data)\n",
    "    pred_texts = decode_batch_predictions(preds)\n",
    "    result_texts.extend(pred_texts)\n",
    "    "
   ]
  },
  {
   "cell_type": "code",
   "execution_count": 29,
   "metadata": {},
   "outputs": [],
   "source": [
    "version = '11'\n",
    "test_df['ans'] = result_texts\n",
    "prediction_path = f'/home/workspace/user-workspace/OCR/Madfalcon/submission_OCR_v{version}.csv'\n",
    "test_df.to_csv(prediction_path,header=None,index=None)"
   ]
  },
  {
   "cell_type": "code",
   "execution_count": null,
   "metadata": {},
   "outputs": [],
   "source": [
    "test_x[0].shape"
   ]
  },
  {
   "cell_type": "code",
   "execution_count": 30,
   "metadata": {},
   "outputs": [
    {
     "name": "stdout",
     "output_type": "stream",
     "text": [
      "예측 결과 :  환자등록번호 ,진료기간 ,질병군(DRG)번호 ,환자구분 ,313호 ,금액산정내용 ,일부 ,선택 ,소계 ,⑦ 진료비 총액 ,"
     ]
    },
    {
     "data": {
      "image/png": "[encoded data removed]",
      "text/plain": [
       "<Figure size 1440x1440 with 80 Axes>"
      ]
     },
     "metadata": {
      "needs_background": "light"
     },
     "output_type": "display_data"
    }
   ],
   "source": [
    "rows = 10\n",
    "cols = 7\n",
    "fig, axes = plt.subplots(rows, cols, figsize=(20, 20))\n",
    "fig.tight_layout()\n",
    "i = 1\n",
    "print(f\"예측 결과 : \", end=' ')\n",
    "for index in range(10):\n",
    "    ax = fig.add_subplot(rows, cols, i)\n",
    "    print(test_df['ans'][index], end=' ,')\n",
    "    ax.imshow(test_x[index], aspect=\"auto\")\n",
    "#     ax.set_xlabel(test_df['ans'][index])\n",
    "#     ax.axis('off')\n",
    "    i += 1\n",
    "#     plt.show()\n"
   ]
  },
  {
   "cell_type": "code",
   "execution_count": 31,
   "metadata": {},
   "outputs": [
    {
     "data": {
      "text/html": [
       "<div>\n",
       "<style scoped>\n",
       "    .dataframe tbody tr th:only-of-type {\n",
       "        vertical-align: middle;\n",
       "    }\n",
       "\n",
       "    .dataframe tbody tr th {\n",
       "        vertical-align: top;\n",
       "    }\n",
       "\n",
       "    .dataframe thead th {\n",
       "        text-align: right;\n",
       "    }\n",
       "</style>\n",
       "<table border=\"1\" class=\"dataframe\">\n",
       "  <thead>\n",
       "    <tr style=\"text-align: right;\">\n",
       "      <th></th>\n",
       "      <th>name</th>\n",
       "      <th>ans</th>\n",
       "    </tr>\n",
       "  </thead>\n",
       "  <tbody>\n",
       "    <tr>\n",
       "      <th>0</th>\n",
       "      <td>01_[00_01_01].tif</td>\n",
       "      <td>환자등록번호</td>\n",
       "    </tr>\n",
       "    <tr>\n",
       "      <th>1</th>\n",
       "      <td>01_[00_07_01].tif</td>\n",
       "      <td>진료기간</td>\n",
       "    </tr>\n",
       "    <tr>\n",
       "      <th>2</th>\n",
       "      <td>01_[02_04_01].tif</td>\n",
       "      <td>질병군(DRG)번호</td>\n",
       "    </tr>\n",
       "    <tr>\n",
       "      <th>3</th>\n",
       "      <td>01_[02_07_01].tif</td>\n",
       "      <td>환자구분</td>\n",
       "    </tr>\n",
       "    <tr>\n",
       "      <th>4</th>\n",
       "      <td>01_[03_06_01].tif</td>\n",
       "      <td>313호</td>\n",
       "    </tr>\n",
       "    <tr>\n",
       "      <th>...</th>\n",
       "      <td>...</td>\n",
       "      <td>...</td>\n",
       "    </tr>\n",
       "    <tr>\n",
       "      <th>7995</th>\n",
       "      <td>80_[56_14_01].tif</td>\n",
       "      <td>외과</td>\n",
       "    </tr>\n",
       "    <tr>\n",
       "      <th>7996</th>\n",
       "      <td>80_[57_00_01].tif</td>\n",
       "      <td>수</td>\n",
       "    </tr>\n",
       "    <tr>\n",
       "      <th>7997</th>\n",
       "      <td>80_[57_01_01].tif</td>\n",
       "      <td>납 인</td>\n",
       "    </tr>\n",
       "    <tr>\n",
       "      <th>7998</th>\n",
       "      <td>80_[57_13_01].tif</td>\n",
       "      <td>실</td>\n",
       "    </tr>\n",
       "    <tr>\n",
       "      <th>7999</th>\n",
       "      <td>80_[59_15_01].tif</td>\n",
       "      <td>003101677</td>\n",
       "    </tr>\n",
       "  </tbody>\n",
       "</table>\n",
       "<p>8000 rows × 2 columns</p>\n",
       "</div>"
      ],
      "text/plain": [
       "                   name         ans\n",
       "0     01_[00_01_01].tif      환자등록번호\n",
       "1     01_[00_07_01].tif        진료기간\n",
       "2     01_[02_04_01].tif  질병군(DRG)번호\n",
       "3     01_[02_07_01].tif        환자구분\n",
       "4     01_[03_06_01].tif        313호\n",
       "...                 ...         ...\n",
       "7995  80_[56_14_01].tif          외과\n",
       "7996  80_[57_00_01].tif           수\n",
       "7997  80_[57_01_01].tif         납 인\n",
       "7998  80_[57_13_01].tif           실\n",
       "7999  80_[59_15_01].tif   003101677\n",
       "\n",
       "[8000 rows x 2 columns]"
      ]
     },
     "execution_count": 31,
     "metadata": {},
     "output_type": "execute_result"
    }
   ],
   "source": [
    "test_df"
   ]
  },
  {
   "cell_type": "code",
   "execution_count": 32,
   "metadata": {},
   "outputs": [
    {
     "name": "stdout",
     "output_type": "stream",
     "text": [
      "prediction csv is : /home/workspace/user-workspace/OCR/Madfalcon/submission_OCR_v11.csv\n",
      "is file:  True\n",
      "20201115061706088086_pBa8.csv: 200\n"
     ]
    }
   ],
   "source": [
    "#결과 제출\n",
    "from nipa.taskSubmit import nipa_submit\n",
    "import os\n",
    "\n",
    "team_id = '1150'\n",
    "task_no = '157'\n",
    "print(f\"prediction csv is : {prediction_path}\")\n",
    "print(\"is file: \", os.path.isfile(prediction_path))\n",
    "\n",
    "nipa_submit(team_id=team_id,\n",
    "task_no=task_no,\n",
    "result=prediction_path\n",
    ")"
   ]
  },
  {
   "cell_type": "code",
   "execution_count": null,
   "metadata": {},
   "outputs": [],
   "source": []
  },
  {
   "cell_type": "code",
   "execution_count": null,
   "metadata": {},
   "outputs": [],
   "source": []
  }
 ],
 "metadata": {
  "kernelspec": {
   "display_name": "Python 3",
   "language": "python",
   "name": "python3"
  },
  "language_info": {
   "codemirror_mode": {
    "name": "ipython",
    "version": 3
   },
   "file_extension": ".py",
   "mimetype": "text/x-python",
   "name": "python",
   "nbconvert_exporter": "python",
   "pygments_lexer": "ipython3",
   "version": "3.7.6"
  }
 },
 "nbformat": 4,
 "nbformat_minor": 4
}
