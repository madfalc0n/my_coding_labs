{
 "cells": [
  {
   "cell_type": "markdown",
   "metadata": {},
   "source": [
    "# TFrecord 생성파일\n",
    "\n",
    "TFrecord 파일을 생성하기 위해서는 크게 2가지 있어야 함\n",
    "1. 라벨과 바운딩박스 정보가 포함된 csv파일(다른확장자도 가능)\n",
    "2. 클래스 분류에 따른 pbtxt 파일\n",
    "\n",
    "2가지 만들었다면 4번 항목으로 ㄱㄱ"
   ]
  },
  {
   "cell_type": "code",
   "execution_count": 5,
   "metadata": {},
   "outputs": [],
   "source": [
    "import pylab\n",
    "import imageio\n",
    "import cv2\n",
    "import os\n",
    "from glob import glob\n",
    "from tqdm import tqdm,tnrange\n",
    "import matplotlib.pyplot as plt\n",
    "\n",
    "import pandas as pd\n",
    "import numpy as np"
   ]
  },
  {
   "cell_type": "markdown",
   "metadata": {},
   "source": [
    "## 1. Frame extract"
   ]
  },
  {
   "cell_type": "code",
   "execution_count": null,
   "metadata": {},
   "outputs": [],
   "source": [
    "#train\n",
    "\n",
    "for i in range(0,6):\n",
    "    print(f'Start number : {i}')\n",
    "    cam_num = i # 0부터 5까지 있다\n",
    "    \n",
    "    #추후 경로 변경 시수정이 필요한 사항 \n",
    "    cam_dir = f'/home/workspace/data/.train/.task154/train/cam_{str(cam_num)}/'\n",
    "    \n",
    "    #기존 csv 호출\n",
    "    cam_file_list_mp4 = glob(cam_dir + '*.mp4', recursive=True)\n",
    "    print(cam_file_list_mp4) # 0번은 동영상, 1번은 csv\n",
    "\n",
    "\n",
    "    #영상속 프레임을 프레임 단위로 추출\n",
    "    save_dir = f'data/cam_{str(cam_num)}/'\n",
    "    video = imageio.get_reader(cam_file_list_mp4[0], 'ffmpeg')\n",
    "    for index, frame in tqdm(enumerate(video)):\n",
    "        cv2.imwrite(save_dir +str(index)+'.jpg', cv2.cvtColor(frame, cv2.COLOR_BGR2RGB))\n",
    "        \n",
    "    print(f'Done!')"
   ]
  },
  {
   "cell_type": "code",
   "execution_count": 4,
   "metadata": {},
   "outputs": [
    {
     "name": "stdout",
     "output_type": "stream",
     "text": [
      "cam_0.mp4\r\n"
     ]
    }
   ],
   "source": [
    "!ls /home/workspace/data/.train/.task154/test/cam_0"
   ]
  },
  {
   "cell_type": "code",
   "execution_count": 6,
   "metadata": {},
   "outputs": [
    {
     "name": "stdout",
     "output_type": "stream",
     "text": [
      "Start number : 0\n",
      "-------------------------\n",
      "['/home/workspace/data/.train/.task154/test/cam_0/cam_0.mp4']\n"
     ]
    },
    {
     "name": "stderr",
     "output_type": "stream",
     "text": [
      "4922it [03:35, 22.79it/s]\n",
      "0it [00:00, ?it/s]"
     ]
    },
    {
     "name": "stdout",
     "output_type": "stream",
     "text": [
      "Done!\n",
      "\n",
      "Start number : 1\n",
      "-------------------------\n",
      "['/home/workspace/data/.train/.task154/test/cam_1/cam_1.mp4']\n"
     ]
    },
    {
     "name": "stderr",
     "output_type": "stream",
     "text": [
      "4922it [03:50, 21.31it/s]\n"
     ]
    },
    {
     "name": "stdout",
     "output_type": "stream",
     "text": [
      "Done!\n",
      "\n",
      "Start number : 2\n",
      "-------------------------\n",
      "['/home/workspace/data/.train/.task154/test/cam_2/cam_2.mp4']\n"
     ]
    },
    {
     "name": "stderr",
     "output_type": "stream",
     "text": [
      "4922it [04:22, 18.78it/s]\n"
     ]
    },
    {
     "name": "stdout",
     "output_type": "stream",
     "text": [
      "Done!\n",
      "\n",
      "Start number : 3\n",
      "-------------------------\n",
      "['/home/workspace/data/.train/.task154/test/cam_3/cam_3.mp4']\n"
     ]
    },
    {
     "name": "stderr",
     "output_type": "stream",
     "text": [
      "4922it [04:06, 19.94it/s]\n",
      "0it [00:00, ?it/s]"
     ]
    },
    {
     "name": "stdout",
     "output_type": "stream",
     "text": [
      "Done!\n",
      "\n",
      "Start number : 4\n",
      "-------------------------\n",
      "['/home/workspace/data/.train/.task154/test/cam_4/cam_4.mp4']\n"
     ]
    },
    {
     "name": "stderr",
     "output_type": "stream",
     "text": [
      "4922it [04:00, 20.46it/s]\n"
     ]
    },
    {
     "name": "stdout",
     "output_type": "stream",
     "text": [
      "Done!\n",
      "\n",
      "Start number : 5\n",
      "-------------------------\n",
      "['/home/workspace/data/.train/.task154/test/cam_5/cam_5.mp4']\n"
     ]
    },
    {
     "name": "stderr",
     "output_type": "stream",
     "text": [
      "4922it [04:18, 19.05it/s]"
     ]
    },
    {
     "name": "stdout",
     "output_type": "stream",
     "text": [
      "Done!\n",
      "\n"
     ]
    },
    {
     "name": "stderr",
     "output_type": "stream",
     "text": [
      "\n"
     ]
    }
   ],
   "source": [
    "# test \n",
    "\n",
    "for i in range(0,6):\n",
    "    print(f'Start number : {i}')\n",
    "    print('-------------------------')\n",
    "    cam_num = i # 0부터 5까지 있다\n",
    "    \n",
    "    #추후 경로 변경 시수정이 필요한 사항 \n",
    "    cam_dir = f'/home/workspace/data/.train/.task154/test/cam_{str(cam_num)}/'\n",
    "    \n",
    "    #기존 csv 호출\n",
    "    cam_file_list_mp4 = glob(cam_dir + '*.mp4', recursive=True)\n",
    "    print(cam_file_list_mp4) # 0번은 동영상\n",
    "\n",
    "\n",
    "    #영상속 프레임을 프레임 단위로 추출\n",
    "    save_dir = f'data_test/cam_{str(cam_num)}/'\n",
    "    video = imageio.get_reader(cam_file_list_mp4[0], 'ffmpeg')\n",
    "    for index, frame in tqdm(enumerate(video)):\n",
    "        cv2.imwrite(save_dir +str(index)+'.jpg', cv2.cvtColor(frame, cv2.COLOR_BGR2RGB))\n",
    "        \n",
    "    print(f'Done!')\n",
    "    print()"
   ]
  },
  {
   "cell_type": "markdown",
   "metadata": {},
   "source": [
    "## 2. CSV extract"
   ]
  },
  {
   "cell_type": "code",
   "execution_count": null,
   "metadata": {},
   "outputs": [],
   "source": [
    "for i in range(0,6):\n",
    "    cam_num = i # 0부터 5까지 있다\n",
    "    print(f'Start number : {i}')\n",
    "    \n",
    "    #추후 경로 변경 시수정이 필요한 사항 \n",
    "    cur_dir = '/home/workspace/user-workspace/object_tracking/madfalcon/'\n",
    "    cam_dir = f'/home/workspace/data/.train/.task154/train/cam_{str(cam_num)}/'\n",
    "\n",
    "    #기존 csv 호출\n",
    "    cam_file_list_csv = glob(cam_dir + '*.csv', recursive=True)\n",
    "    save_dir = f'data/cam_{str(cam_num)}/'\n",
    "#     print(cam_file_list_csv)\n",
    "\n",
    "    \n",
    "    #데이터 프레임 호출\n",
    "    df = pd.read_csv(cam_file_list_csv[0])\n",
    "    df['width'] = 1920\n",
    "    df['height'] = 1080\n",
    "    \n",
    "    df = df[['frame_no_cam', 'width', 'height', 'person_id', 'x_top_left_BB', 'y_top_left_BB', 'x_bottom_right_BB', 'y_bottom_right_BB']]\n",
    "    df.columns = ['filename', 'width', 'height', 'class', 'xmin', 'ymin', 'xmax', 'ymax']\n",
    "    \n",
    "    for i in tqdm(range(len(df))):\n",
    "        tmp_str = cur_dir + save_dir + str(df['filename'][i]) + '.jpg'\n",
    "        df['filename'][i] = tmp_str\n",
    "    num = df._get_numeric_data()\n",
    "    num[num < 0] = 0\n",
    "    \n",
    "    #csv파일 저장\n",
    "    df.to_csv(save_dir + f'cam_{str(cam_num)}_labels.csv', index=None)\n",
    "    print('done!')"
   ]
  },
  {
   "cell_type": "code",
   "execution_count": null,
   "metadata": {},
   "outputs": [],
   "source": [
    "# csv file check\n",
    "for i in range(6):\n",
    "    cam_num = i # 0부터 5까지 있다\n",
    "    save_dir = f'data/cam_{str(cam_num)}/'\n",
    "    cam_file_list_csv = glob(save_dir + '*.csv', recursive=True)\n",
    "    df = pd.read_csv(cam_file_list_csv[0])\n",
    "    display(df.head(3))"
   ]
  },
  {
   "cell_type": "markdown",
   "metadata": {},
   "source": [
    "## 3. Make label.pbtxt"
   ]
  },
  {
   "cell_type": "code",
   "execution_count": null,
   "metadata": {},
   "outputs": [],
   "source": [
    "for i in range(0,6):\n",
    "    cam_num = i # 0부터 5까지 있다\n",
    "    print(f'Start number : {i}')\n",
    "    \n",
    "    #추후 경로 변경 시수정이 필요한 사항 \n",
    "    save_dir = f'data/cam_{str(cam_num)}/'\n",
    "    cam_dir = f'/home/workspace/data/.train/.task154/train/cam_{str(cam_num)}/'\n",
    "    output_name = f'cam_{str(cam_num)}_labelmap.pbtxt'\n",
    "    \n",
    "    cam_file_list_csv = glob(save_dir + '*.csv', recursive=True)\n",
    "    df = pd.read_csv(cam_file_list_csv[0])\n",
    "    categories = sorted(list(df['class'].unique()))\n",
    "    \n",
    "    end = '\\n'\n",
    "    s = ' '\n",
    "    class_map = {}\n",
    "    for ID, name in tqdm(enumerate(categories)):\n",
    "        out = ''\n",
    "        out += 'item' + s + '{' + end\n",
    "        out += s*2 + 'id:' + ' ' + (str(ID+1)) + end\n",
    "        out += s*2 + 'name:' + ' ' + '\\'' + str(name) + '\\'' + end\n",
    "        out += '}' + end*2\n",
    "\n",
    "\n",
    "        with open(save_dir + output_name, 'a') as f:\n",
    "            f.write(out)\n",
    "\n",
    "        class_map[name] = ID+1\n",
    "    \n",
    "    print('done!')"
   ]
  },
  {
   "cell_type": "markdown",
   "metadata": {},
   "source": [
    "## 4. Make TFrecord"
   ]
  },
  {
   "cell_type": "code",
   "execution_count": 1,
   "metadata": {},
   "outputs": [
    {
     "name": "stdout",
     "output_type": "stream",
     "text": [
      "/home/workspace/user-workspace/object_tracking/madfalcon/tf_models/research/object_detection/protos/anchor_generator.proto: File does not reside within any path specified using --proto_path (or -I).  You must specify a --proto_path which encompasses this file.  Note that the proto_path must be an exact prefix of the .proto file names -- protoc is too dumb to figure out when two paths (e.g. absolute and relative) are equivalent (it's harder than you think).\r\n"
     ]
    }
   ],
   "source": [
    "#protocol buffer compile\n",
    "!protoc /home/workspace/user-workspace/object_tracking/madfalcon/tf_models/research/object_detection/protos/*.proto --python_out=."
   ]
  },
  {
   "cell_type": "code",
   "execution_count": 2,
   "metadata": {
    "scrolled": true
   },
   "outputs": [
    {
     "name": "stdout",
     "output_type": "stream",
     "text": [
      "Start number : 0\n",
      "-------------------------\n",
      "label_map_list\n",
      "{'1': 1, '2': 2, '3': 3, '5': 4, '7': 5, '8': 6, '9': 7, '11': 8, '12': 9, '14': 10, '15': 11, '16': 12, '19': 13, '20': 14, '25': 15, '28': 16, '38': 17, '41': 18, '43': 19, '44': 20, '46': 21, '49': 22, '55': 23, '59': 24, '149': 25, '182': 26, '189': 27, '194': 28, '199': 29, '207': 30, '213': 31}\n",
      "Successfully created the TFRecord file: /home/workspace/user-workspace/object_tracking/madfalcon/data/cam_0/cam_0_train.record\n",
      "done!\n",
      "\n",
      "Start number : 1\n",
      "-------------------------\n",
      "label_map_list\n",
      "{'0': 1, '1': 2, '2': 3, '3': 4, '4': 5, '5': 6, '7': 7, '8': 8, '9': 9, '10': 10, '11': 11, '12': 12, '14': 13, '15': 14, '16': 15, '19': 16, '20': 17, '22': 18, '24': 19, '25': 20, '27': 21, '28': 22, '29': 23, '30': 24, '31': 25, '35': 26, '38': 27, '41': 28, '42': 29, '43': 30, '44': 31, '46': 32, '49': 33, '55': 34, '56': 35, '59': 36, '66': 37, '75': 38, '85': 39, '87': 40, '88': 41, '96': 42, '106': 43, '110': 44, '115': 45, '122': 46, '123': 47, '124': 48, '142': 49, '143': 50, '149': 51, '152': 52, '157': 53, '158': 54, '159': 55, '161': 56, '162': 57, '164': 58, '168': 59, '170': 60, '171': 61, '172': 62, '173': 63, '174': 64, '176': 65, '177': 66, '178': 67, '179': 68, '182': 69, '184': 70, '185': 71, '187': 72, '188': 73, '189': 74, '191': 75, '194': 76, '197': 77, '198': 78, '199': 79, '203': 80, '204': 81, '207': 82, '208': 83, '210': 84, '216': 85, '217': 86}\n",
      "Successfully created the TFRecord file: /home/workspace/user-workspace/object_tracking/madfalcon/data/cam_1/cam_1_train.record\n",
      "done!\n",
      "\n",
      "Start number : 2\n",
      "-------------------------\n",
      "label_map_list\n",
      "{'34': 1, '36': 2, '40': 3, '47': 4, '51': 5, '52': 6, '53': 7, '54': 8, '57': 9, '58': 10, '62': 11, '66': 12, '67': 13, '68': 14, '71': 15, '76': 16, '80': 17, '84': 18, '88': 19, '97': 20, '100': 21, '101': 22, '104': 23, '105': 24, '106': 25, '110': 26, '111': 27, '113': 28, '115': 29, '118': 30, '122': 31, '123': 32, '124': 33, '125': 34, '127': 35, '134': 36, '142': 37, '143': 38, '151': 39, '152': 40, '154': 41, '156': 42, '157': 43, '158': 44, '159': 45, '160': 46, '161': 47, '162': 48, '163': 49, '164': 50, '165': 51, '166': 52, '167': 53, '168': 54, '169': 55, '170': 56, '171': 57, '172': 58, '173': 59, '174': 60, '175': 61, '176': 62, '177': 63, '178': 64, '180': 65, '182': 66, '184': 67, '185': 68, '187': 69, '188': 70, '190': 71, '191': 72, '193': 73, '195': 74, '197': 75, '198': 76, '201': 77, '203': 78, '204': 79, '205': 80, '208': 81, '219': 82, '221': 83, '226': 84}\n",
      "Successfully created the TFRecord file: /home/workspace/user-workspace/object_tracking/madfalcon/data/cam_2/cam_2_train.record\n",
      "done!\n",
      "\n",
      "Start number : 3\n",
      "-------------------------\n",
      "label_map_list\n",
      "{'18': 1, '21': 2, '27': 3, '32': 4, '33': 5, '34': 6, '36': 7, '39': 8, '40': 9, '45': 10, '47': 11, '50': 12, '51': 13, '52': 14, '53': 15, '54': 16, '57': 17, '58': 18, '62': 19, '66': 20, '67': 21, '71': 22, '76': 23, '80': 24, '84': 25, '87': 26, '88': 27, '96': 28, '97': 29, '99': 30, '100': 31, '101': 32, '104': 33, '105': 34, '106': 35, '109': 36, '110': 37, '111': 38, '113': 39, '115': 40, '118': 41, '122': 42, '123': 43, '124': 44, '125': 45, '127': 46, '134': 47, '138': 48, '142': 49, '143': 50, '151': 51, '152': 52, '154': 53, '156': 54, '157': 55, '158': 56, '159': 57, '160': 58, '161': 59, '162': 60, '163': 61, '164': 62, '165': 63, '166': 64, '167': 65, '168': 66, '169': 67, '170': 68, '171': 69, '172': 70, '173': 71, '174': 72, '175': 73, '176': 74, '177': 75, '178': 76, '180': 77, '181': 78, '182': 79, '184': 80, '185': 81, '186': 82, '187': 83, '188': 84, '190': 85, '191': 86, '193': 87, '195': 88, '197': 89, '198': 90, '201': 91, '203': 92, '204': 93, '205': 94, '208': 95, '210': 96, '215': 97, '219': 98, '221': 99}\n",
      "Successfully created the TFRecord file: /home/workspace/user-workspace/object_tracking/madfalcon/data/cam_3/cam_3_train.record\n",
      "done!\n",
      "\n",
      "Start number : 4\n",
      "-------------------------\n",
      "label_map_list\n",
      "{'0': 1, '1': 2, '2': 3, '3': 4, '4': 5, '5': 6, '6': 7, '7': 8, '8': 9, '9': 10, '10': 11, '11': 12, '12': 13, '13': 14, '14': 15, '15': 16, '16': 17, '19': 18, '20': 19, '22': 20, '23': 21, '24': 22, '25': 23, '26': 24, '28': 25, '29': 26, '30': 27, '31': 28, '33': 29, '35': 30, '37': 31, '38': 32, '39': 33, '41': 34, '42': 35, '43': 36, '44': 37, '45': 38, '46': 39, '48': 40, '49': 41, '50': 42, '55': 43, '56': 44, '59': 45, '60': 46, '93': 47, '99': 48, '100': 49, '102': 50, '112': 51, '133': 52, '136': 53, '138': 54, '139': 55, '140': 56, '146': 57, '149': 58, '162': 59, '177': 60, '179': 61, '181': 62, '183': 63, '189': 64, '192': 65, '194': 66, '196': 67, '200': 68, '202': 69, '206': 70, '209': 71, '214': 72}\n",
      "Successfully created the TFRecord file: /home/workspace/user-workspace/object_tracking/madfalcon/data/cam_4/cam_4_train.record\n",
      "done!\n",
      "\n",
      "Start number : 5\n",
      "-------------------------\n",
      "label_map_list\n",
      "{'0': 1, '1': 2, '2': 3, '3': 4, '4': 5, '5': 6, '6': 7, '7': 8, '8': 9, '9': 10, '10': 11, '11': 12, '12': 13, '13': 14, '14': 15, '15': 16, '16': 17, '17': 18, '18': 19, '19': 20, '20': 21, '21': 22, '22': 23, '23': 24, '24': 25, '25': 26, '26': 27, '27': 28, '28': 29, '29': 30, '30': 31, '31': 32, '32': 33, '33': 34, '35': 35, '37': 36, '38': 37, '39': 38, '40': 39, '41': 40, '42': 41, '43': 42, '44': 43, '45': 44, '46': 45, '48': 46, '49': 47, '50': 48, '55': 49, '56': 50, '57': 51, '59': 52, '60': 53, '74': 54, '78': 55, '86': 56, '93': 57, '97': 58, '99': 59, '100': 60, '101': 61, '102': 62, '104': 63, '112': 64, '120': 65, '125': 66, '133': 67, '136': 68, '138': 69, '139': 70, '140': 71, '146': 72, '149': 73, '159': 74, '162': 75, '163': 76, '177': 77, '179': 78, '181': 79, '183': 80, '189': 81, '190': 82, '192': 83, '193': 84, '194': 85, '195': 86, '196': 87, '200': 88, '202': 89, '206': 90, '209': 91, '214': 92, '218': 93, '222': 94, '233': 95}\n",
      "Successfully created the TFRecord file: /home/workspace/user-workspace/object_tracking/madfalcon/data/cam_5/cam_5_train.record\n",
      "done!\n",
      "\n"
     ]
    }
   ],
   "source": [
    "for i in range(6):\n",
    "    cam_num = i\n",
    "    print(f'Start number : {i}')\n",
    "    print('-------------------------')\n",
    "    #추후 경로 변경 시수정이 필요한 사항 \n",
    "    full_img_dir = f'/home/workspace/user-workspace/object_tracking/madfalcon/data/cam_{cam_num}/'\n",
    "    full_csv_dir = f'/home/workspace/user-workspace/object_tracking/madfalcon/data/cam_{cam_num}/cam_{cam_num}_labels.csv'\n",
    "    full_labelmap_dir = f'/home/workspace/user-workspace/object_tracking/madfalcon/data/cam_{cam_num}/cam_{cam_num}_labelmap.pbtxt'\n",
    "    full_output_dir = f'/home/workspace/user-workspace/object_tracking/madfalcon/data/cam_{cam_num}/cam_{cam_num}_train.record'\n",
    "    \n",
    "    !python '/home/workspace/user-workspace/object_tracking/madfalcon/tf_models/research/20201104_custom_create_tfrecord.py' \\\n",
    "        -C $full_csv_dir \\\n",
    "        -l $full_labelmap_dir \\\n",
    "        -i $full_img_dir \\\n",
    "        -o $full_output_dir\n",
    "    \n",
    "    print('done!')\n",
    "    print()"
   ]
  },
  {
   "cell_type": "code",
   "execution_count": null,
   "metadata": {},
   "outputs": [],
   "source": []
  }
 ],
 "metadata": {
  "kernelspec": {
   "display_name": "Python 3",
   "language": "python",
   "name": "python3"
  },
  "language_info": {
   "codemirror_mode": {
    "name": "ipython",
    "version": 3
   },
   "file_extension": ".py",
   "mimetype": "text/x-python",
   "name": "python",
   "nbconvert_exporter": "python",
   "pygments_lexer": "ipython3",
   "version": "3.7.6"
  }
 },
 "nbformat": 4,
 "nbformat_minor": 4
}
