{
 "cells": [
  {
   "cell_type": "code",
   "execution_count": 2,
   "metadata": {},
   "outputs": [
    {
     "name": "stdout",
     "output_type": "stream",
     "text": [
      "width :640, height : 480\n"
     ]
    }
   ],
   "source": [
    "import cv2\n",
    "from visualize_cv2 import model, display_instances, class_names\n",
    "import sys\n",
    "\n",
    "args = sys.argv\n",
    "if(len(args) < 2):\n",
    "\tprint(\"run command: python video_demo.py 0 or video file name\")\n",
    "\tsys.exit(0)\n",
    "name = args[1]\n",
    "if(len(args[1]) == 1):\n",
    "\tname = int(args[1])\n",
    "\n",
    "stream = cv2.VideoCapture(name)\n",
    "\n",
    "while True:\n",
    "\tret , frame = stream.read()\n",
    "\tif not ret:\n",
    "\t\tprint(\"unable to fetch frame\")\n",
    "\t\tbreak\n",
    "\tresults = model.detect([frame], verbose=1)\n",
    "\n",
    "\t# Visualize results\n",
    "\tr = results[0]\n",
    "\tmasked_image = display_instances(frame, r['rois'], r['masks'], r['class_ids'],\n",
    "                            class_names, r['scores'])\n",
    "\tcv2.imshow(\"masked_image\",masked_image)\n",
    "\tif(cv2.waitKey(1) & 0xFF == ord('q')):\n",
    "\t\tbreak\n",
    "stream.release()\n",
    "cv2.destroyWindow(\"masked_image\")\n"
   ]
  },
  {
   "cell_type": "code",
   "execution_count": null,
   "metadata": {},
   "outputs": [],
   "source": []
  }
 ],
 "metadata": {
  "kernelspec": {
   "display_name": "Python 3",
   "language": "python",
   "name": "python3"
  },
  "language_info": {
   "codemirror_mode": {
    "name": "ipython",
    "version": 3
   },
   "file_extension": ".py",
   "mimetype": "text/x-python",
   "name": "python",
   "nbconvert_exporter": "python",
   "pygments_lexer": "ipython3",
   "version": "3.6.10"
  }
 },
 "nbformat": 4,
 "nbformat_minor": 4
}
